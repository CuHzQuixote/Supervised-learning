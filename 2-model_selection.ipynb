{
  "cells": [
    {
      "cell_type": "markdown",
      "metadata": {
        "id": "view-in-github",
        "colab_type": "text"
      },
      "source": [
        "<a href=\"https://colab.research.google.com/github/CuHzQuixote/Supervised-learning/blob/main/2-model_selection.ipynb\" target=\"_parent\"><img src=\"https://colab.research.google.com/assets/colab-badge.svg\" alt=\"Open In Colab\"/></a>"
      ]
    },
    {
      "cell_type": "markdown",
      "metadata": {
        "id": "INUa5Mvduwu7"
      },
      "source": [
        "## Model Selection\n",
        "\n",
        "This notebook should include preliminary and baseline modeling.\n",
        "- Try as many different models as possible.\n",
        "- Don't worry about hyperparameter tuning or cross validation here.\n",
        "- Ideas include:\n",
        "    - linear regression\n",
        "    - support vector machines\n",
        "    - random forest\n",
        "    - xgboost"
      ]
    },
    {
      "cell_type": "code",
      "execution_count": null,
      "metadata": {
        "id": "dzxKqGOVuwu9"
      },
      "outputs": [],
      "source": [
        "# import models and fit"
      ]
    },
    {
      "cell_type": "code",
      "source": [],
      "metadata": {
        "id": "qG-t6zhTDb8i"
      },
      "execution_count": null,
      "outputs": []
    },
    {
      "cell_type": "code",
      "source": [
        "import pandas as pd\n",
        "import numpy as np\n",
        "\n",
        "# Load scaled training and testing data\n",
        "X_train = pd.read_csv(\"X_train_scaled.csv\")  # Use the scaled version\n",
        "X_test = pd.read_csv(\"X_test_scaled.csv\")  # Use the scaled version\n",
        "\n",
        "# Load both scaled and unscaled y values\n",
        "y_train = pd.read_csv(\"y_train (1).csv\").values.ravel()  # Unscaled for tree-based models\n",
        "y_test = pd.read_csv(\"y_test (1).csv\").values.ravel()\n",
        "\n",
        "y_train_scaled = pd.read_csv(\"y_train_scaled.csv\").values.ravel()  # Scaled for Linear Regression & SVR\n",
        "y_test_scaled = pd.read_csv(\"y_test_scaled.csv\").values.ravel()\n",
        "\n",
        "print(\"Data successfully loaded!\")\n",
        "print(f\"X_train shape: {X_train.shape}\")\n",
        "print(f\"X_test shape: {X_test.shape}\")\n",
        "print(f\"y_train shape: {y_train.shape} (Unscaled)\")\n",
        "print(f\"y_test shape: {y_test.shape} (Unscaled)\")\n",
        "print(f\"y_train_scaled shape: {y_train_scaled.shape} (Scaled)\")\n",
        "print(f\"y_test_scaled shape: {y_test_scaled.shape} (Scaled)\")\n",
        "\n"
      ],
      "metadata": {
        "colab": {
          "base_uri": "https://localhost:8080/"
        },
        "id": "EDaBsTHCwdfa",
        "outputId": "de584955-87fc-40a0-e26c-028522d7686a"
      },
      "execution_count": 1,
      "outputs": [
        {
          "output_type": "stream",
          "name": "stdout",
          "text": [
            "Data successfully loaded!\n",
            "X_train shape: (5268, 25)\n",
            "X_test shape: (1317, 25)\n",
            "y_train shape: (5268,) (Unscaled)\n",
            "y_test shape: (1317,) (Unscaled)\n",
            "y_train_scaled shape: (5268,) (Scaled)\n",
            "y_test_scaled shape: (1317,) (Scaled)\n"
          ]
        }
      ]
    },
    {
      "cell_type": "code",
      "source": [
        "from sklearn.ensemble import RandomForestRegressor\n",
        "from sklearn.metrics import mean_squared_error, mean_absolute_error, r2_score\n",
        "\n",
        "\n",
        "# Initialize and train model\n",
        "rf_model = RandomForestRegressor(n_estimators=100, random_state=42)\n",
        "rf_model.fit(X_train, y_train)  # Uses unscaled y\n",
        "\n",
        "# Predict\n",
        "y_pred_rf = rf_model.predict(X_test)\n",
        "\n",
        "# Evaluate\n",
        "mse_rf = mean_squared_error(y_test, y_pred_rf)\n",
        "r2_rf = r2_score(y_test, y_pred_rf)\n",
        "\n",
        "print(f\"Random Forest - MSE: {mse_rf}, R² Score: {r2_rf}\")\n",
        "\n"
      ],
      "metadata": {
        "colab": {
          "base_uri": "https://localhost:8080/"
        },
        "id": "nlMZpmHXzr9q",
        "outputId": "a4f4442b-c90c-4030-b439-ec0ad20f68a9"
      },
      "execution_count": 5,
      "outputs": [
        {
          "output_type": "stream",
          "name": "stdout",
          "text": [
            "Random Forest - MSE: 117747778.13228758, R² Score: 0.9985617251121937\n"
          ]
        }
      ]
    },
    {
      "cell_type": "code",
      "source": [
        "import xgboost as xgb\n",
        "\n",
        "from xgboost import XGBRegressor\n",
        "\n",
        "# Initialize and train model\n",
        "xgb_model = XGBRegressor(n_estimators=100, random_state=42)\n",
        "xgb_model.fit(X_train, y_train)  # Uses unscaled y\n",
        "\n",
        "# Predict\n",
        "y_pred_xgb = xgb_model.predict(X_test)\n",
        "\n",
        "# Evaluate\n",
        "mse_xgb = mean_squared_error(y_test, y_pred_xgb)\n",
        "r2_xgb = r2_score(y_test, y_pred_xgb)\n",
        "\n",
        "print(f\"XGBoost - MSE: {mse_xgb}, R² Score: {r2_xgb}\")\n",
        "\n"
      ],
      "metadata": {
        "colab": {
          "base_uri": "https://localhost:8080/"
        },
        "id": "UiZ0bQSm0AAN",
        "outputId": "2543a0e9-6505-4581-d349-fb575fa29203"
      },
      "execution_count": 6,
      "outputs": [
        {
          "output_type": "stream",
          "name": "stdout",
          "text": [
            "XGBoost - MSE: 394046031.27049816, R² Score: 0.9951867753225935\n"
          ]
        }
      ]
    },
    {
      "cell_type": "code",
      "source": [
        "import pandas as pd\n",
        "from sklearn.linear_model import LinearRegression\n",
        "from sklearn.svm import SVR\n",
        "from sklearn.metrics import mean_squared_error, r2_score\n",
        "from sklearn.impute import SimpleImputer  # Import the imputer\n",
        "import numpy as np\n",
        "\n",
        "# Initialize the imputer with a strategy (e.g., mean, median)\n",
        "imputer = SimpleImputer(strategy='mean')  # Replace 'mean' with your preferred strategy\n",
        "\n",
        "# Fit the imputer on your training data and transform both training and testing data\n",
        "X_train_imputed = imputer.fit_transform(X_train)\n",
        "X_test_imputed = imputer.transform(X_test)\n",
        "\n",
        "# Initialize and train model\n",
        "lr_model = LinearRegression()\n",
        "lr_model.fit(X_train_imputed, y_train_scaled)  # Uses scaled y and imputed data\n",
        "\n",
        "# Predict\n",
        "y_pred_lr = lr_model.predict(X_test_imputed) # Use imputed test data for predictions\n",
        "\n",
        "# Evaluate\n",
        "mse_lr = mean_squared_error(y_test_scaled, y_pred_lr)\n",
        "r2_lr = r2_score(y_test_scaled, y_pred_lr)\n",
        "\n",
        "print(f\"Linear Regression - MSE: {mse_lr}, R² Score: {r2_lr}\")\n",
        "\n",
        "\n"
      ],
      "metadata": {
        "colab": {
          "base_uri": "https://localhost:8080/"
        },
        "id": "ISpGwXaf2AEJ",
        "outputId": "75c0d659-01d0-46b8-af68-14ef02a91d2d"
      },
      "execution_count": 3,
      "outputs": [
        {
          "output_type": "stream",
          "name": "stdout",
          "text": [
            "Linear Regression - MSE: 0.0982756741798177, R² Score: 0.9004959866673681\n"
          ]
        }
      ]
    },
    {
      "cell_type": "code",
      "source": [
        "import pandas as pd\n",
        "from sklearn.linear_model import LinearRegression\n",
        "from sklearn.svm import SVR\n",
        "from sklearn.metrics import mean_squared_error, r2_score\n",
        "from sklearn.impute import SimpleImputer  # Import the imputer\n",
        "import numpy as np\n",
        "\n",
        "# Initialize the imputer with a strategy (e.g., mean, median)\n",
        "imputer = SimpleImputer(strategy='mean')  # Replace 'mean' with your preferred strategy if needed\n",
        "\n",
        "# Fit the imputer on your training data and transform both training and testing data\n",
        "X_train_imputed = imputer.fit_transform(X_train)\n",
        "X_test_imputed = imputer.transform(X_test)\n",
        "\n",
        "# Initialize and train model\n",
        "svr_model = SVR(kernel=\"rbf\")\n",
        "svr_model.fit(X_train_imputed, y_train_scaled)  # Uses scaled y and imputed data\n",
        "\n",
        "# Predict\n",
        "y_pred_svr = svr_model.predict(X_test_imputed) # Use imputed test data for predictions\n",
        "\n",
        "# Evaluate\n",
        "mse_svr = mean_squared_error(y_test_scaled, y_pred_svr)\n",
        "r2_svr = r2_score(y_test_scaled, y_pred_svr)\n",
        "\n",
        "print(f\"SVR - MSE: {mse_svr}, R² Score: {r2_svr}\")\n",
        "\n"
      ],
      "metadata": {
        "colab": {
          "base_uri": "https://localhost:8080/"
        },
        "id": "W60FpoLS2AvY",
        "outputId": "3c5f53c1-69a5-4967-823c-88a98aa8f7ab"
      },
      "execution_count": 8,
      "outputs": [
        {
          "output_type": "stream",
          "name": "stdout",
          "text": [
            "SVR - MSE: 0.05167373565636287, R² Score: 0.9476803987903493\n"
          ]
        }
      ]
    },
    {
      "cell_type": "markdown",
      "metadata": {
        "id": "6wiK5zzruwu-"
      },
      "source": [
        "Consider what metrics you want to use to evaluate success.\n",
        "- If you think about mean squared error, can we actually relate to the amount of error?\n",
        "- Try root mean squared error so that error is closer to the original units (dollars)\n",
        "- What does RMSE do to outliers?\n",
        "- Is mean absolute error a good metric for this problem?\n",
        "- What about R^2? Adjusted R^2?\n",
        "- Briefly describe your reasons for picking the metrics you use"
      ]
    },
    {
      "cell_type": "code",
      "execution_count": null,
      "metadata": {
        "id": "tBWI-xhLuwu_"
      },
      "outputs": [],
      "source": [
        "# gather evaluation metrics and compare results"
      ]
    },
    {
      "cell_type": "code",
      "source": [
        "from sklearn.metrics import mean_absolute_error\n",
        "import numpy as np\n",
        "\n",
        "# Calculate RMSE (Root Mean Squared Error)\n",
        "rmse_values = [\n",
        "    np.sqrt(mse_rf),\n",
        "    np.sqrt(mse_xgb),\n",
        "    np.sqrt(mse_lr),\n",
        "    np.sqrt(mse_svr)\n",
        "]\n",
        "\n",
        "# Calculate MAE (Mean Absolute Error)\n",
        "mae_values = [\n",
        "    mean_absolute_error(y_test, y_pred_rf),\n",
        "    mean_absolute_error(y_test, y_pred_xgb),\n",
        "    mean_absolute_error(y_test_scaled, y_pred_lr),\n",
        "    mean_absolute_error(y_test_scaled, y_pred_svr)\n",
        "]\n",
        "\n",
        "# Store R² Scores\n",
        "r2_values = [r2_rf, r2_xgb, r2_lr, r2_svr]\n",
        "\n",
        "# Model names\n",
        "models = [\"Random Forest\", \"XGBoost\", \"Linear Regression\", \"SVR\"]\n"
      ],
      "metadata": {
        "id": "UhBp-1jq0KrT"
      },
      "execution_count": 10,
      "outputs": []
    },
    {
      "cell_type": "code",
      "source": [
        "import matplotlib.pyplot as plt\n",
        "import numpy as np\n",
        "\n",
        "# Set bar width and positions\n",
        "bar_width = 0.2\n",
        "x = np.arange(len(models))\n",
        "\n",
        "# Create grouped bar chart\n",
        "fig, ax = plt.subplots(figsize=(12, 6))\n",
        "\n",
        "# Plot each metric in different colors\n",
        "ax.bar(x - bar_width, rmse_values, bar_width, label=\"RMSE\", color=\"blue\")\n",
        "ax.bar(x, mae_values, bar_width, label=\"MAE\", color=\"red\")\n",
        "ax.bar(x + bar_width, r2_values, bar_width, label=\"R² Score\", color=\"green\")\n",
        "\n",
        "# Add labels and title\n",
        "ax.set_xlabel(\"Models\")\n",
        "ax.set_ylabel(\"Metric Values\")\n",
        "ax.set_title(\"Model Performance Comparison\")\n",
        "ax.set_xticks(x)\n",
        "ax.set_xticklabels(models)\n",
        "ax.legend()\n",
        "\n",
        "plt.tight_layout()\n",
        "plt.show()\n",
        "\n"
      ],
      "metadata": {
        "colab": {
          "base_uri": "https://localhost:8080/",
          "height": 441
        },
        "id": "NodyY7UqDbBj",
        "outputId": "934b42b2-4c50-4905-97af-6d66ef0bbec3"
      },
      "execution_count": 11,
      "outputs": [
        {
          "output_type": "display_data",
          "data": {
            "text/plain": [
              "<Figure size 1200x600 with 1 Axes>"
            ],
            "image/png": "[encoded data removed]"
          },
          "metadata": {}
        }
      ]
    },
    {
      "cell_type": "markdown",
      "metadata": {
        "id": "o9_lL3T2uwu_"
      },
      "source": [
        "## Feature Selection - STRETCH\n",
        "\n",
        "> **This step doesn't need to be part of your Minimum Viable Product (MVP), but its recommended you complete it if you have time!**\n",
        "\n",
        "Even with all the preprocessing we did in Notebook 1, you probably still have a lot of features. Are they all important for prediction?\n",
        "\n",
        "Investigate some feature selection algorithms (Lasso, RFE, Forward/Backward Selection)\n",
        "- Perform feature selection to get a reduced subset of your original features\n",
        "- Refit your models with this reduced dimensionality - how does performance change on your chosen metrics?\n",
        "- Based on this, should you include feature selection in your final pipeline? Explain\n",
        "\n",
        "Remember, feature selection often doesn't directly improve performance, but if performance remains the same, a simpler model is often preferrable.\n",
        "\n"
      ]
    },
    {
      "cell_type": "code",
      "execution_count": null,
      "metadata": {
        "id": "O70vRQ8tuwu_"
      },
      "outputs": [],
      "source": [
        "# perform feature selection\n",
        "# refit models\n",
        "# gather evaluation metrics and compare to the previous step (full feature set)"
      ]
    },
    {
      "cell_type": "markdown",
      "metadata": {
        "id": "8nmvZwUruwu_"
      },
      "source": []
    }
  ],
  "metadata": {
    "kernelspec": {
      "display_name": "Python 3",
      "language": "python",
      "name": "python3"
    },
    "language_info": {
      "name": "python",
      "version": "3.9.0"
    },
    "colab": {
      "provenance": [],
      "include_colab_link": true
    }
  },
  "nbformat": 4,
  "nbformat_minor": 0
}