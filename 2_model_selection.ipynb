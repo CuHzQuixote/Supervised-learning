{
  "cells": [
    {
      "cell_type": "markdown",
      "metadata": {
        "id": "INUa5Mvduwu7"
      },
      "source": [
        "## Model Selection\n",
        "\n",
        "This notebook should include preliminary and baseline modeling.\n",
        "- Try as many different models as possible.\n",
        "- Don't worry about hyperparameter tuning or cross validation here.\n",
        "- Ideas include:\n",
        "    - linear regression\n",
        "    - support vector machines\n",
        "    - random forest\n",
        "    - xgboost"
      ]
    },
    {
      "cell_type": "code",
      "execution_count": 4,
      "metadata": {
        "id": "dzxKqGOVuwu9"
      },
      "outputs": [],
      "source": [
        "# import models and fit"
      ]
    },
    {
      "cell_type": "code",
      "source": [],
      "metadata": {
        "id": "qG-t6zhTDb8i"
      },
      "execution_count": 21,
      "outputs": []
    },
    {
      "cell_type": "code",
      "source": [
        "import pandas as pd\n",
        "import numpy as np\n",
        "\n",
        "# Load training and testing data\n",
        "X_train = pd.read_csv(\"X_train (1).csv\")\n",
        "X_test = pd.read_csv(\"X_test (1).csv\")\n",
        "y_train = pd.read_csv(\"y_train (1).csv\")\n",
        "y_test = pd.read_csv(\"y_test (1).csv\")\n",
        "\n",
        "\n",
        "y_train = y_train.values.ravel()\n",
        "y_test = y_test.values.ravel()\n",
        "\n",
        "print(\"Data successfully loaded!\")\n",
        "print(f\"X_train shape: {X_train.shape}\")\n",
        "print(f\"X_test shape: {X_test.shape}\")\n",
        "print(f\"y_train shape: {y_train.shape}\")\n",
        "print(f\"y_test shape: {y_test.shape}\")\n"
      ],
      "metadata": {
        "colab": {
          "base_uri": "https://localhost:8080/"
        },
        "id": "EDaBsTHCwdfa",
        "outputId": "943d1865-1dbc-4078-96e0-0da47c4a356c"
      },
      "execution_count": 2,
      "outputs": [
        {
          "output_type": "stream",
          "name": "stdout",
          "text": [
            "Data successfully loaded!\n",
            "X_train shape: (5268, 14)\n",
            "X_test shape: (1317, 14)\n",
            "y_train shape: (5268,)\n",
            "y_test shape: (1317,)\n"
          ]
        }
      ]
    },
    {
      "cell_type": "code",
      "source": [
        "import pandas as pd\n",
        "\n",
        "y_train = pd.Series(y_train)  # Convert to a Pandas Series\n",
        "print(y_train.unique())  # Now it should work"
      ],
      "metadata": {
        "colab": {
          "base_uri": "https://localhost:8080/"
        },
        "id": "Z4uxSJLCx2sj",
        "outputId": "0a0bf05a-d6f7-4469-bc37-75a7fac75405"
      },
      "execution_count": 3,
      "outputs": [
        {
          "output_type": "stream",
          "name": "stdout",
          "text": [
            "[ 527000.  759000. 1560000.  300000.  145000.  157000.  123000.  294988.\n",
            "   28600.  295000.  519450.  497900.  328350.  292500.  265000.  203000.\n",
            "  515000.  303000.  375000.  472500.  220000.  419000.  106000.  270000.\n",
            "  175550.  200000.  335000.  340000.  250000.   42900.  227500.  615000.\n",
            "  260000.  580000.  362500.  210000.   92500.  240000.  154900.  120000.\n",
            "  395000.  540000.  325000.  312000.  320000.  259500.   29700.  225000.\n",
            "  190000.  703125.   79900.  219000.   60000.  599900.  349990.  401000.\n",
            "  307000. 1925000.  163000.   30000.  263000.  272500.  891000.  275000.\n",
            "  310000.  236500. 1550000.  255000.  430000.  420000.  519000.  480000.\n",
            "  350000.  247900.  285000.  510000.  280000.  765000. 1760000.  425000.\n",
            "  219900.  718800.  378000.  160000.  100000.   90000.  343000.  191000.\n",
            "   28000.  525000.  103000.  520000.  710000.  448700. 1299000.  315000.\n",
            "  172500.  232000.  460000.  642500.  858000. 2016000.  675000.  277000.\n",
            "  282000.  374000.  172000.  248000.  162000.  750000.  287500. 1159000.\n",
            "  440000.  700000. 1038712.   62000.  288000.  530000.  905000.  360000.\n",
            "  467500.  235000.   65000.  823500. 1700000.   95900.  415000.  271000.\n",
            "  205000.  760000. 1059800.  698000.  910000.  279000.  299000.  141000.\n",
            "  780000.  165000.  199900.  241500.  155350.  125000.  610000.  570000.\n",
            "  330000.  239900.  635000.  450000. 1100000.  319999.  389900.   68000.\n",
            "  410000.  434500.   86500. 1000000.  455000.  513000.  207000.   79000.\n",
            "  230000.  150000.  495000.  417500.  277875.   40000.  140000.  641450.\n",
            "  318000.  245000.  112000.  445000.  405000.  498500.  175000.  490000.\n",
            "  144000.  153000.  689900.  472000.  556000.  117777.   71500.  359900.\n",
            "   27500.  800000.    6930.  217000.  400000.   93950.  505000.  470000.\n",
            "  179000.  202000.  214000.  239000.  725000.  705000.  385000.   63000.\n",
            "  895000.  366100.  632500.  620000.  524950. 1500000.  185000.  169900.\n",
            "   69500.  147000.  138000.  690000. 1244104.   19900.   69000.    7700.\n",
            "  221500.  389500.  281000.  274500.  135000. 1150000.  356000.  560000.\n",
            "  259900.  777000.  107500.  656700.  442015.  114580.  324900.  115000.\n",
            "   58075.   89500.  475000.  229995.  224900.  555000.  215000.  529900.\n",
            "  276000.  128700.  195000.  390000.  412000.    7590.  370000.  380000.\n",
            "  432000.  545900. 1035800.  122000.  184900.  155000.  105000.  487000.\n",
            "  355000. 1075000.  424099.  565000.  132000.   75000.  136000.  452500.\n",
            "  333900.  396500.  737000.   63500.  637500.  999999.  559900.   63800.\n",
            "  172900.  345000.  346000.  158000.  305000.  114000.  224825.   99000.\n",
            "  354900.   54167.  159900.  383000.  222000.  466000.  454000.  733900.\n",
            "  164900.  118000.  208000.  431000.   10000.  169400.  599000.  237000.\n",
            "  180000.   74250.  730000.  175100.  142000.  152500.  128500.  550000.\n",
            "  428000.   15400.  465000.  292000.  205500.  439900.  221000.  365000.\n",
            "  290000.  533600.  417000. 1437500.  666700.  188000.  590000.  261250.\n",
            "   85000.  619000.  196000.  435000.  645000.  399950.  225900.  132500.\n",
            "  825000.  429000.  485000.   22000.   15900.  231000.  660000.  247000.\n",
            "  197000.  498000.  326000.  359000.  278000.  721000.   26000.  349500.\n",
            "  240300.  600000.   14300.  575000.  227000.  625600. 1125000.  665000.\n",
            "  500000.  534000.  151000.  512000.  369900.  379990.  332000.  789900.\n",
            "  785000.  650000.   64000.  258000.  266000.  900000.  433000.  331000.\n",
            "  629000.  339000.  169000.  500100.  827522.  824800.  209500.  775000.\n",
            "  106900.  191500.  494000.  985000.  347000.  309900.  755000.  810000.\n",
            "  364900.  206000.  640000.  960000.  518444.  130000.   16500.  362800.\n",
            "  102000.  699000.  246500.  173000.  284500.  592790.  368000.  822500.\n",
            "  589000.  109000.  235001.  457000. 1915000. 1195000.  651000. 1701500.\n",
            "  410500.   99100.  110000.  512500.   39900.   45000.  314000.  448000.\n",
            "  874900.   99275.   53591.   32900.  562000.  297000.  111200.  558000.\n",
            "   97000.  261000.  253000.  147500.  349000.  226000.  323000.  388000.\n",
            "  298800.   49900.   64975.   57054.  441000. 1375000.  159000.  820000.\n",
            "  134000.   51860.  609000.  509000.   31500. 1312400.  449000.  655000.\n",
            "  212000.  496000.  267000.  289900.  545000.  373000.  211000. 1410000.\n",
            "  283500.  784000.  283000.  178000.   59000.  237050.  149900.  238000.\n",
            "  194628.  212500.  371500.  174632.  224325.  607900.    9000.  307300.\n",
            "  229900.  236000.  331500.   55000.  366000.  161500.  322000.  168000.\n",
            "   27225.  346001. 1795000.   76000.  670000.  223000.  289000.  284900.\n",
            "   18900.  422500. 1180000.  122500.  689000.  293000.  499300.  293500.\n",
            "  177500.  143500.  421000.  718750.  214400.  850000.  234000.  539900.\n",
            "  186000.  762000.  148800.   89900. 1400000.  170000.  133000.  399900.\n",
            "  534900.  242000.  332500.  399000.  154000.  349900.  189000. 1206000.\n",
            " 1862500.  243000.  162450.   95000.   86000.  247400.   58000.  194900.\n",
            "  497000.  376500.  274000.  328500.  357000.  218829.   91000.   48500.\n",
            "  707500.  299500.  115500.  333500. 1041750.  739900.  522500.  252000.\n",
            "   25000.  747000.  139900.  630000.  204000.  427900.  439000.  667500.\n",
            "  165900.  453990.  623000.  387900.   20700.  689999. 1200000.  745000.\n",
            "  269000.   50000.  313000.  527500.  676860.  595000.  541000.  107000.\n",
            "   69750.  468000.  119900.  362000.  231650.  625000.  492450.  371300.\n",
            "  306000.  244500.   74000.  542500.   29900.  117000.  287000.  585000.\n",
            " 1250000.   68250.  980000.  779000.   68750.  267500.  302500.   94500.\n",
            " 1220000. 1465000.  644000.   88500. 1460000.  127000.  364500.  255900.\n",
            "  144815.   56000.  459900.  621000.  162250.   57000.   88000.  436000.\n",
            "  272000.  264900.  366600. 1660000.  261900.  324000.  350500.   61050.\n",
            " 1048000.   42000.  249900.  271500.  265300.  359500.  229000.  370512.\n",
            " 1010000.  262500.  709900.   12900.  719000.  455555.  234900.  437000.\n",
            " 1285000.  228000.   20900.   62500. 1090000.  424900.   53325.  241000.\n",
            "  707000.  372500.  167000.   38500. 1690000.   13200.  392000.    9900.\n",
            " 1900000.   59400.  875000.  371000.  327000.  393000.  748900.  226500.\n",
            "   14900.   35000.  792600.  327500.  169500.  140267.  135500.  263626.\n",
            " 1458250.  148000.  826000.  137000.  770000.  298897.  187000.  494800.\n",
            "  311500.  740000.  108000.  266900.  382000.  294000. 1050000. 1325000.\n",
            "  209000.   41800.  988750.  135900.  718000. 1170000.  200791.  402000.\n",
            "  469000.  903000.  259000.  335500. 1279000.  358000.  162500.  950000.\n",
            "  350300.  379000. 1450000.  348900.  925000.  685000.  358900.  880000.\n",
            "  452000. 1222000.]\n"
          ]
        }
      ]
    },
    {
      "cell_type": "code",
      "source": [
        "print(X_train.dtypes)"
      ],
      "metadata": {
        "colab": {
          "base_uri": "https://localhost:8080/"
        },
        "id": "nto4sYpWyZvm",
        "outputId": "97973b58-9025-42dc-9aab-b890ac58a419"
      },
      "execution_count": 4,
      "outputs": [
        {
          "output_type": "stream",
          "name": "stdout",
          "text": [
            "status          object\n",
            "list_price     float64\n",
            "year_built     float64\n",
            "beds           float64\n",
            "baths          float64\n",
            "sqft           float64\n",
            "lot_sqft       float64\n",
            "garage         float64\n",
            "type            object\n",
            "city           float64\n",
            "state          float64\n",
            "postal_code      int64\n",
            "latitude       float64\n",
            "longitude      float64\n",
            "dtype: object\n"
          ]
        }
      ]
    },
    {
      "cell_type": "code",
      "source": [
        "from sklearn.preprocessing import OneHotEncoder\n",
        "\n",
        "# Select categorical columns\n",
        "categorical_cols = [\"status\", \"type\"]  # Columns that need encoding\n",
        "\n",
        "# Apply One-Hot Encoding\n",
        "encoder = OneHotEncoder(handle_unknown=\"ignore\", sparse_output=False)\n",
        "X_train_encoded = encoder.fit_transform(X_train[categorical_cols])\n",
        "X_test_encoded = encoder.transform(X_test[categorical_cols])\n",
        "\n",
        "# Convert to DataFrame\n",
        "X_train_encoded = pd.DataFrame(X_train_encoded, columns=encoder.get_feature_names_out(categorical_cols))\n",
        "X_test_encoded = pd.DataFrame(X_test_encoded, columns=encoder.get_feature_names_out(categorical_cols))\n",
        "\n",
        "# Drop original categorical columns & merge encoded ones\n",
        "X_train = X_train.drop(columns=categorical_cols).reset_index(drop=True)\n",
        "X_test = X_test.drop(columns=categorical_cols).reset_index(drop=True)\n",
        "\n",
        "X_train = pd.concat([X_train, X_train_encoded], axis=1)\n",
        "X_test = pd.concat([X_test, X_test_encoded], axis=1)\n",
        "\n",
        "print(\"Final X_train shape:\", X_train.shape)\n"
      ],
      "metadata": {
        "colab": {
          "base_uri": "https://localhost:8080/"
        },
        "id": "zi7c6Vchzl1a",
        "outputId": "471a03f7-4e90-45f0-faad-071ccccc1b39"
      },
      "execution_count": 5,
      "outputs": [
        {
          "output_type": "stream",
          "name": "stdout",
          "text": [
            "Final X_train shape: (5268, 25)\n"
          ]
        }
      ]
    },
    {
      "cell_type": "code",
      "source": [
        "X_train = X_train.apply(pd.to_numeric, errors=\"coerce\")\n",
        "X_test = X_test.apply(pd.to_numeric, errors=\"coerce\")"
      ],
      "metadata": {
        "id": "ARXz6fx-zn1J"
      },
      "execution_count": 6,
      "outputs": []
    },
    {
      "cell_type": "code",
      "source": [
        "from sklearn.ensemble import RandomForestRegressor\n",
        "from sklearn.metrics import mean_squared_error, mean_absolute_error, r2_score\n",
        "\n",
        "# Initialize the model\n",
        "rf_model = RandomForestRegressor(n_estimators=100, random_state=42)\n",
        "\n",
        "# Train the model\n",
        "rf_model.fit(X_train, y_train)\n",
        "\n",
        "# Make predictions\n",
        "y_pred_rf = rf_model.predict(X_test)\n",
        "\n",
        "# Evaluate the model\n",
        "mse_rf = mean_squared_error(y_test, y_pred_rf)\n",
        "rmse_rf = mse_rf ** 0.5  # Root Mean Squared Error\n",
        "mae_rf = mean_absolute_error(y_test, y_pred_rf)\n",
        "r2_rf = r2_score(y_test, y_pred_rf)\n",
        "\n",
        "# Print results\n",
        "print(f\"Random Forest Results:\")\n",
        "print(f\"  RMSE: {rmse_rf:.2f}\")\n",
        "print(f\"  MAE: {mae_rf:.2f}\")\n",
        "print(f\"  R² Score: {r2_rf:.4f}\")\n"
      ],
      "metadata": {
        "colab": {
          "base_uri": "https://localhost:8080/"
        },
        "id": "nlMZpmHXzr9q",
        "outputId": "e9f7134f-aa4a-440c-dacf-e893f55d872e"
      },
      "execution_count": 7,
      "outputs": [
        {
          "output_type": "stream",
          "name": "stdout",
          "text": [
            "Random Forest Results:\n",
            "  RMSE: 10783.68\n",
            "  MAE: 2826.25\n",
            "  R² Score: 0.9986\n"
          ]
        }
      ]
    },
    {
      "cell_type": "code",
      "source": [
        "import xgboost as xgb\n",
        "\n",
        "# Initialize DMatrix for XGBoost\n",
        "dtrain = xgb.DMatrix(X_train, label=y_train)\n",
        "dtest = xgb.DMatrix(X_test, label=y_test)\n",
        "\n",
        "# Set up parameters\n",
        "params = {\n",
        "    \"objective\": \"reg:squarederror\",  # Use squared error for regression\n",
        "    \"eval_metric\": \"rmse\"\n",
        "}\n",
        "\n",
        "# Train the model\n",
        "xgb_model = xgb.train(params, dtrain, num_boost_round=100)\n",
        "\n",
        "# Make predictions\n",
        "y_pred_xgb = xgb_model.predict(dtest)\n",
        "\n",
        "# Evaluate the model\n",
        "mse_xgb = mean_squared_error(y_test, y_pred_xgb)\n",
        "rmse_xgb = mse_xgb ** 0.5  # Root Mean Squared Error\n",
        "mae_xgb = mean_absolute_error(y_test, y_pred_xgb)\n",
        "r2_xgb = r2_score(y_test, y_pred_xgb)\n",
        "\n",
        "# Print results\n",
        "print(f\"XGBoost Results:\")\n",
        "print(f\"  RMSE: {rmse_xgb:.2f}\")\n",
        "print(f\"  MAE: {mae_xgb:.2f}\")\n",
        "print(f\"  R² Score: {r2_xgb:.4f}\")\n"
      ],
      "metadata": {
        "colab": {
          "base_uri": "https://localhost:8080/"
        },
        "id": "UiZ0bQSm0AAN",
        "outputId": "beff4085-2a7a-4aff-8e16-d3025b6b2d06"
      },
      "execution_count": 8,
      "outputs": [
        {
          "output_type": "stream",
          "name": "stdout",
          "text": [
            "XGBoost Results:\n",
            "  RMSE: 19850.59\n",
            "  MAE: 4174.56\n",
            "  R² Score: 0.9952\n"
          ]
        }
      ]
    },
    {
      "cell_type": "code",
      "source": [
        "import pandas as pd\n",
        "from sklearn.linear_model import LinearRegression\n",
        "from sklearn.svm import SVR\n",
        "from sklearn.metrics import mean_squared_error, r2_score\n",
        "from sklearn.impute import SimpleImputer # Import the imputer\n",
        "import numpy as np\n",
        "\n",
        "\n",
        "# Initialize the imputer with a strategy (e.g., mean, median)\n",
        "imputer = SimpleImputer(strategy='mean')  # Replace 'mean' with your preferred strategy\n",
        "\n",
        "# Fit the imputer on your training data and transform both training and testing data\n",
        "X_train_imputed = imputer.fit_transform(X_train)\n",
        "X_test_imputed = imputer.transform(X_test)\n",
        "\n",
        "# Initialize the model\n",
        "lr_model = LinearRegression()\n",
        "\n",
        "# Train the model using the imputed data\n",
        "lr_model.fit(X_train_imputed, y_train)\n",
        "\n",
        "# Predict on test data (using imputed test data)\n",
        "y_pred_lr = lr_model.predict(X_test_imputed)\n",
        "\n",
        "# Evaluate performance\n",
        "mse_lr = mean_squared_error(y_test, y_pred_lr)\n",
        "r2_lr = r2_score(y_test, y_pred_lr)\n",
        "mae_lr = mean_absolute_error(y_test, y_pred_lr)\n",
        "\n",
        "# Print results\n",
        "print(f\"Linear Regression MSE: {mse_lr}\")\n",
        "print(f\"Linear Regression R² Score: {r2_lr}\")\n",
        "print(f\"Linear Regression MAE: {mae_lr}\")\n",
        "\n"
      ],
      "metadata": {
        "colab": {
          "base_uri": "https://localhost:8080/"
        },
        "id": "ISpGwXaf2AEJ",
        "outputId": "fa71edd3-da90-4102-978c-8c48a09bc067"
      },
      "execution_count": 12,
      "outputs": [
        {
          "output_type": "stream",
          "name": "stdout",
          "text": [
            "Linear Regression MSE: 8146131580.607352\n",
            "Linear Regression R² Score: 0.9004959866674442\n",
            "Linear Regression MAE: 41235.32593670534\n"
          ]
        }
      ]
    },
    {
      "cell_type": "code",
      "source": [
        "import pandas as pd\n",
        "from sklearn.linear_model import LinearRegression\n",
        "from sklearn.svm import SVR\n",
        "from sklearn.metrics import mean_squared_error, r2_score\n",
        "from sklearn.impute import SimpleImputer  # Import the imputer\n",
        "import numpy as np\n",
        "\n",
        "# Initialize the imputer with a strategy (e.g., mean, median)\n",
        "imputer = SimpleImputer(strategy='mean')  # Replace 'mean' with your preferred strategy\n",
        "\n",
        "# Fit the imputer on your training data and transform both training and testing data\n",
        "X_train_imputed = imputer.fit_transform(X_train)\n",
        "X_test_imputed = imputer.transform(X_test)\n",
        "\n",
        "# Initialize the SVR model (use RBF kernel for better generalization)\n",
        "svr_model = SVR(kernel='rbf')\n",
        "\n",
        "# Train the model using the imputed data\n",
        "svr_model.fit(X_train_imputed, y_train)  # Use imputed data for training\n",
        "\n",
        "# Predict on test data (using imputed test data)\n",
        "y_pred_svr = svr_model.predict(X_test_imputed)  # Use imputed data for prediction\n",
        "\n",
        "# Evaluate performance\n",
        "mse_svr = mean_squared_error(y_test, y_pred_svr)\n",
        "r2_svr = r2_score(y_test, y_pred_svr)\n",
        "mae_svr = mean_absolute_error(y_test, y_pred_svr)\n",
        "\n",
        "print(f\"SVR MSE: {mse_svr}\")\n",
        "print(f\"SVR R² Score: {r2_svr}\")\n",
        "print(f\"SVR MAE: {mae_svr}\")\n"
      ],
      "metadata": {
        "colab": {
          "base_uri": "https://localhost:8080/"
        },
        "id": "W60FpoLS2AvY",
        "outputId": "657227bb-c7f8-417a-a2ca-f5300025f105"
      },
      "execution_count": 14,
      "outputs": [
        {
          "output_type": "stream",
          "name": "stdout",
          "text": [
            "SVR MSE: 85205835995.02158\n",
            "SVR R² Score: -0.04077899515441774\n",
            "SVR MAE: 189419.49125710715\n"
          ]
        }
      ]
    },
    {
      "cell_type": "markdown",
      "metadata": {
        "id": "6wiK5zzruwu-"
      },
      "source": [
        "Consider what metrics you want to use to evaluate success.\n",
        "- If you think about mean squared error, can we actually relate to the amount of error?\n",
        "- Try root mean squared error so that error is closer to the original units (dollars)\n",
        "- What does RMSE do to outliers?\n",
        "- Is mean absolute error a good metric for this problem?\n",
        "- What about R^2? Adjusted R^2?\n",
        "- Briefly describe your reasons for picking the metrics you use"
      ]
    },
    {
      "cell_type": "code",
      "execution_count": null,
      "metadata": {
        "id": "tBWI-xhLuwu_"
      },
      "outputs": [],
      "source": [
        "# gather evaluation metrics and compare results"
      ]
    },
    {
      "cell_type": "code",
      "source": [
        "from sklearn.metrics import mean_absolute_error\n",
        "\n",
        "# Calculate additional metrics\n",
        "rmse_values = [np.sqrt(mse_rf), np.sqrt(mse_xgb), np.sqrt(mse_lr), np.sqrt(mse_svr)]\n",
        "mae_values = [mean_absolute_error(y_test, y_pred_rf),\n",
        "              mean_absolute_error(y_test, y_pred_xgb),\n",
        "              mean_absolute_error(y_test, y_pred_lr),\n",
        "              mean_absolute_error(y_test, y_pred_svr)]\n",
        "r2_values = [r2_rf, r2_xgb, r2_lr, r2_svr]"
      ],
      "metadata": {
        "id": "UhBp-1jq0KrT"
      },
      "execution_count": 15,
      "outputs": []
    },
    {
      "cell_type": "code",
      "source": [],
      "metadata": {
        "colab": {
          "base_uri": "https://localhost:8080/"
        },
        "id": "4tKe8gypEI56",
        "outputId": "b133af9b-016d-4103-c4a5-0ef000f5c392"
      },
      "execution_count": 19,
      "outputs": [
        {
          "output_type": "stream",
          "name": "stdout",
          "text": [
            "[10783.676120581455, 19850.592718367334, 90255.9226899119, 291900.38711009204]\n",
            "[2826.2495107299887, 4174.555111641041, 41235.32593670534, 189419.49125710715]\n",
            "[0.9985795601484435, 0.9951867753225935, 0.9004959866674442, -0.04077899515441774]\n"
          ]
        }
      ]
    },
    {
      "cell_type": "code",
      "source": [
        "import matplotlib.pyplot as plt\n",
        "\n",
        "# Define the model names\n",
        "models = [\"Random Forest\", \"XGBoost\", \"Linear Regression\", \"Support Vector Machine\"]\n",
        "\n",
        "# Create subplots for MSE, RMSE, MAE, and R² Score\n",
        "fig, axes = plt.subplots(1, 3, figsize=(15, 5))\n",
        "\n",
        "# RMSE Comparison\n",
        "axes[0].bar(models, rmse_values, color=['blue', 'green', 'red', 'orange'])\n",
        "axes[0].set_title(\"RMSE Comparison\")\n",
        "axes[0].set_ylabel(\"RMSE\")\n",
        "\n",
        "# MAE Comparison\n",
        "axes[1].bar(models, mae_values, color=['blue', 'green', 'red', 'orange'])\n",
        "axes[1].set_title(\"MAE Comparison\")\n",
        "axes[1].set_ylabel(\"MAE\")\n",
        "\n",
        "# R² Score Comparison\n",
        "axes[2].bar(models, r2_values, color=['blue', 'green', 'red', 'orange'])\n",
        "axes[2].set_title(\"R² Score Comparison\")\n",
        "axes[2].set_ylabel(\"R² Score\")\n",
        "axes[2].set_ylim(0, 1)  # Ensures R² scores are between 0 and 1\n",
        "\n",
        "plt.tight_layout()\n",
        "plt.show()"
      ],
      "metadata": {
        "colab": {
          "base_uri": "https://localhost:8080/",
          "height": 299
        },
        "id": "NodyY7UqDbBj",
        "outputId": "9431ee39-94ec-4e2f-f686-063367bbf372"
      },
      "execution_count": 18,
      "outputs": [
        {
          "output_type": "display_data",
          "data": {
            "text/plain": [
              "<Figure size 1500x500 with 3 Axes>"
            ],
            "image/png": "[encoded data removed]"
          },
          "metadata": {}
        }
      ]
    },
    {
      "cell_type": "markdown",
      "metadata": {
        "id": "o9_lL3T2uwu_"
      },
      "source": [
        "## Feature Selection - STRETCH\n",
        "\n",
        "> **This step doesn't need to be part of your Minimum Viable Product (MVP), but its recommended you complete it if you have time!**\n",
        "\n",
        "Even with all the preprocessing we did in Notebook 1, you probably still have a lot of features. Are they all important for prediction?\n",
        "\n",
        "Investigate some feature selection algorithms (Lasso, RFE, Forward/Backward Selection)\n",
        "- Perform feature selection to get a reduced subset of your original features\n",
        "- Refit your models with this reduced dimensionality - how does performance change on your chosen metrics?\n",
        "- Based on this, should you include feature selection in your final pipeline? Explain\n",
        "\n",
        "Remember, feature selection often doesn't directly improve performance, but if performance remains the same, a simpler model is often preferrable.\n",
        "\n"
      ]
    },
    {
      "cell_type": "code",
      "execution_count": null,
      "metadata": {
        "id": "O70vRQ8tuwu_"
      },
      "outputs": [],
      "source": [
        "# perform feature selection\n",
        "# refit models\n",
        "# gather evaluation metrics and compare to the previous step (full feature set)"
      ]
    },
    {
      "cell_type": "markdown",
      "metadata": {
        "id": "8nmvZwUruwu_"
      },
      "source": []
    }
  ],
  "metadata": {
    "kernelspec": {
      "display_name": "Python 3",
      "language": "python",
      "name": "python3"
    },
    "language_info": {
      "name": "python",
      "version": "3.9.0"
    },
    "colab": {
      "provenance": []
    }
  },
  "nbformat": 4,
  "nbformat_minor": 0
}