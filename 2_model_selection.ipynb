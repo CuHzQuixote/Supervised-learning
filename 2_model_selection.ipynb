{
  "cells": [
    {
      "cell_type": "markdown",
      "metadata": {
        "id": "INUa5Mvduwu7"
      },
      "source": [
        "## Model Selection\n",
        "\n",
        "This notebook should include preliminary and baseline modeling.\n",
        "- Try as many different models as possible.\n",
        "- Don't worry about hyperparameter tuning or cross validation here.\n",
        "- Ideas include:\n",
        "    - linear regression\n",
        "    - support vector machines\n",
        "    - random forest\n",
        "    - xgboost"
      ]
    },
    {
      "cell_type": "code",
      "execution_count": 4,
      "metadata": {
        "id": "dzxKqGOVuwu9"
      },
      "outputs": [],
      "source": [
        "# import models and fit"
      ]
    },
    {
      "cell_type": "code",
      "source": [
        "import pandas as pd\n",
        "import numpy as np\n",
        "\n",
        "# Load training and testing data\n",
        "X_train = pd.read_csv(\"X_train.csv\")\n",
        "X_test = pd.read_csv(\"X_test.csv\")\n",
        "y_train = pd.read_csv(\"y_train.csv\")\n",
        "y_test = pd.read_csv(\"y_test.csv\")\n",
        "\n",
        "\n",
        "y_train = y_train.values.ravel()\n",
        "y_test = y_test.values.ravel()\n",
        "\n",
        "print(\"Data successfully loaded!\")\n",
        "print(f\"X_train shape: {X_train.shape}\")\n",
        "print(f\"X_test shape: {X_test.shape}\")\n",
        "print(f\"y_train shape: {y_train.shape}\")\n",
        "print(f\"y_test shape: {y_test.shape}\")\n"
      ],
      "metadata": {
        "colab": {
          "base_uri": "https://localhost:8080/"
        },
        "id": "EDaBsTHCwdfa",
        "outputId": "3e60caac-a7a4-4de9-d9bd-aed072e68c5e"
      },
      "execution_count": 6,
      "outputs": [
        {
          "output_type": "stream",
          "name": "stdout",
          "text": [
            "Data successfully loaded!\n",
            "X_train shape: (5372, 14)\n",
            "X_test shape: (1344, 14)\n",
            "y_train shape: (5372,)\n",
            "y_test shape: (1344,)\n"
          ]
        }
      ]
    },
    {
      "cell_type": "code",
      "source": [
        "import pandas as pd\n",
        "\n",
        "y_train = pd.Series(y_train)  # Convert to a Pandas Series\n",
        "print(y_train.unique())  # Now it should work"
      ],
      "metadata": {
        "colab": {
          "base_uri": "https://localhost:8080/"
        },
        "id": "Z4uxSJLCx2sj",
        "outputId": "060118ce-eba3-423f-df1c-0e9e6909cac8"
      },
      "execution_count": 9,
      "outputs": [
        {
          "output_type": "stream",
          "name": "stdout",
          "text": [
            "[7.000000e+05 3.150000e+05 3.500000e+05 6.414500e+05 2.310000e+05\n",
            " 4.400000e+05 1.155000e+05 8.500000e+04 7.620000e+05 2.600000e+05\n",
            " 4.850000e+05 1.870000e+05 8.100000e+05 1.949000e+05 4.100000e+05\n",
            " 6.500000e+05 5.399000e+05 1.850000e+05 1.525000e+05 3.285000e+05\n",
            " 1.125000e+06 1.699000e+05 2.500000e+06 5.425000e+05 2.349000e+05\n",
            " 2.250000e+05 4.500000e+04 4.539900e+05 4.750000e+05 1.500000e+05\n",
            " 5.050000e+05 3.700000e+05 1.450000e+05 4.200000e+05 6.256000e+05\n",
            " 2.599000e+05 1.069000e+05 2.780000e+05 1.600000e+05 4.390000e+05\n",
            " 7.500000e+05 2.849000e+05 7.400000e+06 8.910000e+05 3.220000e+05\n",
            " 3.850000e+02 5.500000e+04 1.200000e+05 1.010000e+06 9.700000e+04\n",
            " 6.750000e+05 3.710000e+05 1.470000e+05 2.800000e+05 9.500000e+05\n",
            " 6.900000e+05 2.800000e+04 2.750000e+05 3.000000e+05 7.050000e+05\n",
            " 8.800000e+04 1.410000e+06 3.300000e+05 2.500000e+03 7.450000e+05\n",
            " 1.950000e+05 1.550000e+05 1.448150e+05 9.000000e+05 3.450000e+05\n",
            " 9.250000e+04 2.399000e+05 5.000000e+05 2.500000e+05 3.240000e+05\n",
            " 3.620000e+05 2.845000e+05 3.705120e+05 1.590000e+05 3.460000e+05\n",
            " 2.550000e+05 1.890000e+05 7.031250e+05 1.150000e+05 1.650000e+04\n",
            " 3.320000e+05 1.800000e+05 3.740000e+05 6.990000e+05 2.950000e+05\n",
            " 2.000000e+05 3.503000e+05 3.750000e+05 1.000000e+04 3.470000e+05\n",
            " 7.750000e+05 3.489000e+05 5.150000e+05 3.260000e+05 4.900000e+05\n",
            " 4.300000e+05 3.390000e+05 2.800000e+06 1.350000e+05 1.700000e+06\n",
            " 1.279000e+06 2.900000e+05 9.395000e+04 7.187500e+05 9.500000e+04\n",
            " 2.830000e+05 2.479000e+05 4.120000e+05 4.850000e+04 3.499900e+05\n",
            " 6.000000e+04 2.625000e+05 1.250000e+05 5.184440e+05 6.150000e+05\n",
            " 1.177770e+05 1.725000e+05 1.399000e+05 4.200000e+04 3.350000e+05\n",
            " 2.080000e+05 2.700000e+05 1.795000e+06 9.800000e+05 4.650000e+05\n",
            " 2.690000e+05 1.041750e+06 1.038712e+06 3.600000e+05 3.950000e+05\n",
            " 2.350000e+05 4.000000e+05 2.200000e+05 2.360000e+05 1.622500e+05\n",
            " 7.500000e+04 1.340000e+05 5.800000e+05 2.875000e+05 6.899000e+05\n",
            " 9.450000e+04 1.159000e+06 8.248000e+05 4.725000e+05 3.799900e+05\n",
            " 1.050000e+05 3.050000e+05 5.700000e+04 2.290000e+05 5.750000e+05\n",
            " 2.400000e+05 8.850000e+04 3.070000e+05 5.000000e+04 6.105000e+04\n",
            " 3.550000e+05 5.700000e+05 4.550000e+05 3.790000e+05 3.570000e+05\n",
            " 4.250000e+05 6.425000e+05 2.450000e+05 4.950000e+05 2.580000e+05\n",
            " 3.575000e+03 3.130000e+05 3.250000e+04 2.890000e+05 3.100000e+05\n",
            " 1.755500e+05 3.850000e+05 2.300000e+05 7.990000e+04 1.880000e+05\n",
            " 3.030000e+05 1.549000e+05 1.170000e+05 2.470000e+05 2.920000e+05\n",
            " 7.075000e+05 1.500000e+06 3.650000e+05 4.225000e+05 1.402670e+05\n",
            " 4.500000e+05 3.895000e+05 3.830000e+05 2.630000e+05 4.320000e+05\n",
            " 7.600000e+05 7.700000e+03 6.450000e+05 2.100000e+06 1.090000e+05\n",
            " 5.500000e+05 2.715000e+05 2.403000e+05 1.660000e+06 4.480000e+05\n",
            " 6.000000e+05 1.375000e+06 2.925000e+05 2.430000e+05 1.100000e+06\n",
            " 2.090000e+04 3.073000e+05 6.700000e+05 4.050000e+05 2.612500e+05\n",
            " 2.350010e+05 5.990000e+05 1.000000e+06 5.650000e+05 6.800000e+04\n",
            " 3.580000e+05 2.040000e+05 8.950000e+04 7.190000e+05 2.316500e+05\n",
            " 2.990000e+05 4.525000e+05 5.300000e+05 6.190000e+05 6.768600e+05\n",
            " 4.700000e+05 2.100000e+05 6.350000e+04 1.480000e+05 1.760000e+06\n",
            " 3.200000e+06 1.900000e+05 2.870000e+05 2.970000e+04 3.250000e+05\n",
            " 3.290000e+04 5.100000e+05 1.560000e+06 4.370000e+05 2.030000e+05\n",
            " 2.140000e+05 1.580000e+05 2.860000e+04 2.200000e+04 4.280000e+05\n",
            " 5.186000e+04 4.487000e+05 6.675000e+05 1.780000e+05 1.355000e+05\n",
            " 3.628000e+05 6.510000e+05 3.200000e+05 2.725000e+05 2.650000e+05\n",
            " 3.645000e+05 5.250000e+05 4.020000e+05 6.667000e+05 3.990000e+04\n",
            " 2.595000e+05 8.749000e+05 5.336000e+05 9.590000e+04 2.210000e+05\n",
            " 4.210000e+05 3.120000e+05 4.345000e+05 1.970000e+05 1.180000e+05\n",
            " 6.900000e+04 2.988000e+05 3.400000e+05 1.195000e+06 1.312400e+06\n",
            " 2.790000e+05 4.410000e+05 4.599000e+05 2.710000e+05 5.270000e+05\n",
            " 8.200000e+05 2.880000e+05 3.325000e+05 1.900000e+06 1.615000e+05\n",
            " 4.150000e+05 1.862500e+06 2.365000e+05 3.115000e+05 3.900000e+05\n",
            " 2.300000e+06 6.100000e+05 3.800000e+05 5.359100e+04 3.820000e+05\n",
            " 1.990000e+04 7.370000e+05 6.200000e+05 2.150000e+05 5.600000e+05\n",
            " 5.332500e+04 8.500000e+05 4.600000e+05 5.000000e+03 2.144000e+05\n",
            " 1.000000e+05 3.599000e+05 2.410000e+05 2.095000e+05 3.699000e+05\n",
            " 1.206000e+06 2.660000e+05 3.715000e+05 1.530000e+05 6.300000e+04\n",
            " 7.550000e+05 7.700000e+05 2.820000e+05 6.690000e+05 6.250000e+05\n",
            " 1.170000e+06 1.694000e+05 5.850000e+05 7.188000e+05 8.275220e+05\n",
            " 4.420150e+05 1.020000e+05 3.180000e+05 4.680000e+05 2.055000e+05\n",
            " 1.499000e+05 7.489000e+05 6.875000e+04 2.220000e+05 4.960000e+05\n",
            " 1.630000e+05 7.770000e+05 4.980000e+05 2.850000e+05 7.600000e+04\n",
            " 3.150000e+04 2.585000e+03 4.240990e+05 2.810000e+05 2.190000e+05\n",
            " 4.940000e+05 9.900000e+03 1.400000e+05 5.200000e+05 1.120000e+05\n",
            " 3.625000e+05 2.930000e+05 3.430000e+05 1.946280e+05 5.450000e+05\n",
            " 5.620000e+05 1.751000e+05 7.800000e+05 1.570000e+05 4.993000e+05\n",
            " 4.870000e+05 3.999999e+06 2.370000e+05 1.290000e+04 2.445000e+05\n",
            " 6.210000e+05 2.199000e+05 8.650000e+04 2.500000e+04 1.325000e+06\n",
            " 3.490000e+05 2.745000e+05 2.070000e+05 2.110000e+05 9.999990e+05\n",
            " 3.649000e+05 8.600000e+04 1.553500e+05 1.659000e+05 4.924500e+05\n",
            " 2.390000e+05 2.050000e+05 1.690000e+05 1.649000e+05 1.890000e+04\n",
            " 1.075000e+06 3.725000e+05 9.100000e+04 1.200000e+06 4.249000e+05\n",
            " 3.730000e+05 1.540000e+04 9.927500e+04 4.490000e+05 5.550000e+05\n",
            " 6.079000e+05 1.620000e+05 6.400000e+05 9.900000e+04 4.330000e+05\n",
            " 1.650000e+05 1.150000e+06 1.360000e+05 2.465000e+05 4.555550e+05\n",
            " 2.215000e+05 5.940000e+04 2.188290e+05 1.060000e+05 3.040000e+05\n",
            " 2.990000e+04 4.675000e+05 3.495000e+05 1.230000e+05 5.900000e+05\n",
            " 6.350000e+05 2.299000e+05 2.248250e+05 3.000000e+04 8.235000e+05\n",
            " 6.300000e+05 5.400000e+05 7.926000e+05 5.705400e+04 3.899000e+05\n",
            " 4.990000e+04 3.230000e+05 2.970000e+05 7.100000e+05 1.550000e+06\n",
            " 5.560000e+05 2.472000e+05 1.999000e+05 3.680000e+05 4.290000e+05\n",
            " 1.750000e+05 2.499000e+05 4.570000e+05 2.590000e+05 8.580000e+05\n",
            " 1.059800e+06 7.900000e+04 1.287000e+05 2.600000e+06 6.375000e+05\n",
            " 8.225000e+05 8.250000e+05 3.965000e+05 1.220000e+06 3.315000e+05\n",
            " 6.500000e+04 1.070000e+05 1.670000e+05 1.700000e+05 3.025000e+05\n",
            " 2.270000e+05 6.980000e+05 5.800000e+04 6.650000e+05 2.120000e+05\n",
            " 2.280000e+05 6.950000e+04 1.458250e+06 4.979000e+05 5.299000e+05\n",
            " 1.380000e+05 2.675000e+05 1.140000e+05 2.249000e+05 1.775000e+05\n",
            " 2.370500e+05 3.339000e+05 6.400000e+04 2.559000e+05 4.540000e+05\n",
            " 2.670000e+05 7.210000e+05 1.540000e+05 1.435000e+05 9.030000e+05\n",
            " 1.488000e+05 7.150000e+04 6.380000e+03 8.800000e+05 1.599000e+05\n",
            " 1.145800e+05 5.194500e+05 8.990000e+04 5.459000e+05 1.225000e+05\n",
            " 1.915000e+06 1.925000e+06 2.636260e+05 1.199000e+05 7.400000e+05\n",
            " 7.850000e+05 2.480000e+05 5.900000e+04 5.340000e+05 8.000000e+05\n",
            " 3.990000e+05 7.840000e+05 9.600000e+05 4.970000e+05 5.900000e+03\n",
            " 6.200000e+04 1.300000e+05 6.850000e+05 6.600000e+05 1.320000e+04\n",
            " 1.625000e+05 4.170000e+05 1.720000e+05 4.010000e+05 6.550000e+05\n",
            " 2.935000e+05 4.985000e+05 6.567000e+05 1.910000e+05 3.099000e+05\n",
            " 2.350000e+06 6.930000e+03 2.265000e+05 3.879000e+05 1.440000e+05\n",
            " 1.050000e+06 1.590000e+04 2.125000e+05 5.275000e+05 3.765000e+05\n",
            " 2.669000e+05 2.243250e+05 2.778750e+05 6.325000e+05 5.090000e+05\n",
            " 1.100000e+05 1.180000e+06 1.420000e+05 2.610000e+05 6.250000e+04\n",
            " 3.275000e+05 3.920000e+05 3.335000e+05 1.122000e+03 1.460000e+06\n",
            " 5.599000e+05 9.910000e+04 6.890000e+05 1.680000e+05 1.244104e+06\n",
            " 5.349000e+05 3.666000e+05 2.320000e+05 3.310000e+05 1.510000e+05\n",
            " 1.475000e+05 4.399000e+05 2.060000e+05 1.035800e+06 3.199990e+05\n",
            " 1.430000e+04 9.100000e+05 8.950000e+05 2.649000e+05 3.595000e+05\n",
            " 8.260000e+05 2.706500e+07 6.090000e+05 1.960000e+05 5.190000e+05\n",
            " 3.850000e+06 2.259000e+05 2.949880e+05 4.720000e+05 4.279000e+05\n",
            " 2.275000e+05 2.619000e+05 6.899990e+05 5.120000e+05 3.500000e+04\n",
            " 7.070000e+05 6.290000e+05 5.600000e+04 9.000000e+04 1.075000e+05\n",
            " 2.722500e+04 9.000000e+03 3.080000e+02 2.380000e+05 2.070000e+04\n",
            " 7.250000e+05 2.530000e+05 1.359000e+05 2.007910e+05 1.790000e+05\n",
            " 3.460010e+05 9.850000e+05 3.661000e+05 4.180000e+04 2.415000e+05\n",
            " 1.330000e+05 2.653000e+05 4.310000e+05 1.729000e+05 2.420000e+05\n",
            " 2.899000e+05 1.730000e+05 1.410000e+05 4.105000e+05 4.948000e+05\n",
            " 3.780000e+05 2.720000e+05 4.175000e+05 7.590000e+03 1.270000e+05\n",
            " 1.299000e+06 1.250000e+06 1.490000e+04 4.500000e+03 5.950000e+05\n",
            " 1.624500e+05 2.090000e+05 1.695000e+05 5.125000e+05 9.050000e+05\n",
            " 6.230000e+05 3.590000e+05 2.125000e+06 3.999500e+05 7.470000e+05\n",
            " 3.355000e+05 1.915000e+05 3.060000e+05 3.140000e+05 5.225000e+05\n",
            " 2.299950e+05 5.001000e+05 4.800000e+05 1.030000e+05 2.740000e+05\n",
            " 6.380000e+04 1.746320e+05 1.285000e+06 6.440000e+05 3.560000e+05\n",
            " 2.760000e+05 3.713000e+05 3.999000e+05 1.849000e+05 5.890000e+05\n",
            " 4.660000e+05 1.090000e+06 7.300000e+05 2.835000e+05 6.497500e+04\n",
            " 1.220000e+05 2.340000e+05 2.770000e+05 7.339000e+05 3.880000e+05\n",
            " 4.520000e+05 7.399000e+05 4.000000e+04 2.230000e+05 3.589000e+05\n",
            " 3.800000e+03 3.249000e+05 7.425000e+04 2.750000e+04 1.222000e+06\n",
            " 5.807500e+04 4.290000e+04 3.505000e+05 6.825000e+04 1.080000e+05\n",
            " 3.270000e+05 1.370000e+05 1.400000e+06 5.999000e+05 1.465000e+06\n",
            " 5.249500e+05 7.400000e+04 2.170000e+05 1.690000e+06 1.250000e+07\n",
            " 2.988970e+05 3.660000e+05 7.899000e+05 7.790000e+05 2.020000e+05\n",
            " 5.580000e+05 2.600000e+04 3.283500e+05 2.260000e+05 1.325000e+05\n",
            " 3.850000e+04 5.410000e+05 4.350000e+05 3.549000e+05 1.437500e+06\n",
            " 5.416700e+04 4.450000e+05 7.650000e+05 4.190000e+05 2.016000e+06\n",
            " 4.360000e+05 2.995000e+05 2.520000e+05 9.250000e+05 1.112000e+05\n",
            " 1.701500e+06 1.299000e+05 2.474000e+05 5.130000e+05 7.180000e+05\n",
            " 5.830000e+02 1.320000e+05 1.860000e+05 2.940000e+05 3.930000e+05\n",
            " 4.690000e+05 1.285000e+05 7.590000e+05 1.048000e+06 8.750000e+05\n",
            " 5.927900e+05 1.450000e+06]\n"
          ]
        }
      ]
    },
    {
      "cell_type": "code",
      "source": [
        "print(X_train.dtypes)"
      ],
      "metadata": {
        "colab": {
          "base_uri": "https://localhost:8080/"
        },
        "id": "nto4sYpWyZvm",
        "outputId": "5613345d-c4f4-410f-8f39-f826b8ccb61f"
      },
      "execution_count": 12,
      "outputs": [
        {
          "output_type": "stream",
          "name": "stdout",
          "text": [
            "status          object\n",
            "list_price     float64\n",
            "year_built     float64\n",
            "beds           float64\n",
            "baths          float64\n",
            "sqft           float64\n",
            "lot_sqft       float64\n",
            "garage         float64\n",
            "type            object\n",
            "city           float64\n",
            "state          float64\n",
            "postal_code      int64\n",
            "latitude       float64\n",
            "longitude      float64\n",
            "dtype: object\n"
          ]
        }
      ]
    },
    {
      "cell_type": "code",
      "source": [
        "from sklearn.preprocessing import OneHotEncoder\n",
        "\n",
        "# Select categorical columns\n",
        "categorical_cols = [\"status\", \"type\"]  # Columns that need encoding\n",
        "\n",
        "# Apply One-Hot Encoding\n",
        "encoder = OneHotEncoder(handle_unknown=\"ignore\", sparse_output=False)\n",
        "X_train_encoded = encoder.fit_transform(X_train[categorical_cols])\n",
        "X_test_encoded = encoder.transform(X_test[categorical_cols])\n",
        "\n",
        "# Convert to DataFrame\n",
        "X_train_encoded = pd.DataFrame(X_train_encoded, columns=encoder.get_feature_names_out(categorical_cols))\n",
        "X_test_encoded = pd.DataFrame(X_test_encoded, columns=encoder.get_feature_names_out(categorical_cols))\n",
        "\n",
        "# Drop original categorical columns & merge encoded ones\n",
        "X_train = X_train.drop(columns=categorical_cols).reset_index(drop=True)\n",
        "X_test = X_test.drop(columns=categorical_cols).reset_index(drop=True)\n",
        "\n",
        "X_train = pd.concat([X_train, X_train_encoded], axis=1)\n",
        "X_test = pd.concat([X_test, X_test_encoded], axis=1)\n",
        "\n",
        "print(\"Final X_train shape:\", X_train.shape)\n"
      ],
      "metadata": {
        "colab": {
          "base_uri": "https://localhost:8080/"
        },
        "id": "zi7c6Vchzl1a",
        "outputId": "80b51428-abe8-438d-9bdc-bd3978041a76"
      },
      "execution_count": 13,
      "outputs": [
        {
          "output_type": "stream",
          "name": "stdout",
          "text": [
            "Final X_train shape: (5372, 25)\n"
          ]
        }
      ]
    },
    {
      "cell_type": "code",
      "source": [
        "X_train = X_train.apply(pd.to_numeric, errors=\"coerce\")\n",
        "X_test = X_test.apply(pd.to_numeric, errors=\"coerce\")"
      ],
      "metadata": {
        "id": "ARXz6fx-zn1J"
      },
      "execution_count": 14,
      "outputs": []
    },
    {
      "cell_type": "code",
      "source": [
        "from sklearn.ensemble import RandomForestRegressor\n",
        "from sklearn.metrics import mean_squared_error, mean_absolute_error, r2_score\n",
        "\n",
        "# Initialize the model\n",
        "rf_model = RandomForestRegressor(n_estimators=100, random_state=42)\n",
        "\n",
        "# Train the model\n",
        "rf_model.fit(X_train, y_train)\n",
        "\n",
        "# Make predictions\n",
        "y_pred_rf = rf_model.predict(X_test)\n",
        "\n",
        "# Evaluate the model\n",
        "mse_rf = mean_squared_error(y_test, y_pred_rf)\n",
        "rmse_rf = mse_rf ** 0.5  # Root Mean Squared Error\n",
        "mae_rf = mean_absolute_error(y_test, y_pred_rf)\n",
        "r2_rf = r2_score(y_test, y_pred_rf)\n",
        "\n",
        "# Print results\n",
        "print(f\"Random Forest Results:\")\n",
        "print(f\"  RMSE: {rmse_rf:.2f}\")\n",
        "print(f\"  MAE: {mae_rf:.2f}\")\n",
        "print(f\"  R² Score: {r2_rf:.4f}\")\n"
      ],
      "metadata": {
        "colab": {
          "base_uri": "https://localhost:8080/"
        },
        "id": "nlMZpmHXzr9q",
        "outputId": "9e1ff50b-f058-4f5f-d6d8-1d9d86fb9ce2"
      },
      "execution_count": 16,
      "outputs": [
        {
          "output_type": "stream",
          "name": "stdout",
          "text": [
            "Random Forest Results:\n",
            "  RMSE: 33132.48\n",
            "  MAE: 5350.79\n",
            "  R² Score: 0.9935\n"
          ]
        }
      ]
    },
    {
      "cell_type": "code",
      "source": [
        "import xgboost as xgb\n",
        "\n",
        "# Initialize DMatrix for XGBoost\n",
        "dtrain = xgb.DMatrix(X_train, label=y_train)\n",
        "dtest = xgb.DMatrix(X_test, label=y_test)\n",
        "\n",
        "# Set up parameters\n",
        "params = {\n",
        "    \"objective\": \"reg:squarederror\",  # Use squared error for regression\n",
        "    \"eval_metric\": \"rmse\"\n",
        "}\n",
        "\n",
        "# Train the model\n",
        "xgb_model = xgb.train(params, dtrain, num_boost_round=100)\n",
        "\n",
        "# Make predictions\n",
        "y_pred_xgb = xgb_model.predict(dtest)\n",
        "\n",
        "# Evaluate the model\n",
        "mse_xgb = mean_squared_error(y_test, y_pred_xgb)\n",
        "rmse_xgb = mse_xgb ** 0.5  # Root Mean Squared Error\n",
        "mae_xgb = mean_absolute_error(y_test, y_pred_xgb)\n",
        "r2_xgb = r2_score(y_test, y_pred_xgb)\n",
        "\n",
        "# Print results\n",
        "print(f\"XGBoost Results:\")\n",
        "print(f\"  RMSE: {rmse_xgb:.2f}\")\n",
        "print(f\"  MAE: {mae_xgb:.2f}\")\n",
        "print(f\"  R² Score: {r2_xgb:.4f}\")\n"
      ],
      "metadata": {
        "colab": {
          "base_uri": "https://localhost:8080/"
        },
        "id": "UiZ0bQSm0AAN",
        "outputId": "786942ee-c95b-4367-b685-e8feb63d84be"
      },
      "execution_count": 17,
      "outputs": [
        {
          "output_type": "stream",
          "name": "stdout",
          "text": [
            "XGBoost Results:\n",
            "  RMSE: 8396.56\n",
            "  MAE: 4440.29\n",
            "  R² Score: 0.9996\n"
          ]
        }
      ]
    },
    {
      "cell_type": "markdown",
      "metadata": {
        "id": "6wiK5zzruwu-"
      },
      "source": [
        "Consider what metrics you want to use to evaluate success.\n",
        "- If you think about mean squared error, can we actually relate to the amount of error?\n",
        "- Try root mean squared error so that error is closer to the original units (dollars)\n",
        "- What does RMSE do to outliers?\n",
        "- Is mean absolute error a good metric for this problem?\n",
        "- What about R^2? Adjusted R^2?\n",
        "- Briefly describe your reasons for picking the metrics you use"
      ]
    },
    {
      "cell_type": "code",
      "execution_count": null,
      "metadata": {
        "id": "tBWI-xhLuwu_"
      },
      "outputs": [],
      "source": [
        "# gather evaluation metrics and compare results"
      ]
    },
    {
      "cell_type": "code",
      "source": [
        "import matplotlib.pyplot as plt\n",
        "import numpy as np\n",
        "\n",
        "# Model names\n",
        "models = [\"Random Forest\", \"XGBoost\"]\n",
        "rmse_scores = [rmse_rf, rmse_xgb]\n",
        "mae_scores = [mae_rf, mae_xgb]\n",
        "r2_scores = [r2_rf, r2_xgb]\n",
        "\n",
        "# Plot comparison\n",
        "fig, ax = plt.subplots(1, 3, figsize=(15, 5))\n",
        "\n",
        "# RMSE Comparison\n",
        "ax[0].bar(models, rmse_scores, color=['blue', 'green'])\n",
        "ax[0].set_title(\"RMSE Comparison\")\n",
        "ax[0].set_ylabel(\"RMSE\")\n",
        "\n",
        "# MAE Comparison\n",
        "ax[1].bar(models, mae_scores, color=['blue', 'green'])\n",
        "ax[1].set_title(\"MAE Comparison\")\n",
        "ax[1].set_ylabel(\"MAE\")\n",
        "\n",
        "# R2 Score Comparison\n",
        "ax[2].bar(models, r2_scores, color=['blue', 'green'])\n",
        "ax[2].set_title(\"R² Score Comparison\")\n",
        "ax[2].set_ylabel(\"R² Score\")\n",
        "\n",
        "plt.show()\n"
      ],
      "metadata": {
        "colab": {
          "base_uri": "https://localhost:8080/",
          "height": 324
        },
        "id": "UhBp-1jq0KrT",
        "outputId": "cb6e587e-90b1-4705-e259-9a20d6d96462"
      },
      "execution_count": 18,
      "outputs": [
        {
          "output_type": "display_data",
          "data": {
            "text/plain": [
              "<Figure size 1500x500 with 3 Axes>"
            ],
            "image/png": "[encoded data removed]"
          },
          "metadata": {}
        }
      ]
    },
    {
      "cell_type": "markdown",
      "metadata": {
        "id": "o9_lL3T2uwu_"
      },
      "source": [
        "## Feature Selection - STRETCH\n",
        "\n",
        "> **This step doesn't need to be part of your Minimum Viable Product (MVP), but its recommended you complete it if you have time!**\n",
        "\n",
        "Even with all the preprocessing we did in Notebook 1, you probably still have a lot of features. Are they all important for prediction?\n",
        "\n",
        "Investigate some feature selection algorithms (Lasso, RFE, Forward/Backward Selection)\n",
        "- Perform feature selection to get a reduced subset of your original features\n",
        "- Refit your models with this reduced dimensionality - how does performance change on your chosen metrics?\n",
        "- Based on this, should you include feature selection in your final pipeline? Explain\n",
        "\n",
        "Remember, feature selection often doesn't directly improve performance, but if performance remains the same, a simpler model is often preferrable.\n",
        "\n"
      ]
    },
    {
      "cell_type": "code",
      "execution_count": null,
      "metadata": {
        "id": "O70vRQ8tuwu_"
      },
      "outputs": [],
      "source": [
        "# perform feature selection\n",
        "# refit models\n",
        "# gather evaluation metrics and compare to the previous step (full feature set)"
      ]
    },
    {
      "cell_type": "markdown",
      "metadata": {
        "id": "8nmvZwUruwu_"
      },
      "source": []
    }
  ],
  "metadata": {
    "kernelspec": {
      "display_name": "Python 3",
      "language": "python",
      "name": "python3"
    },
    "language_info": {
      "name": "python",
      "version": "3.9.0"
    },
    "colab": {
      "provenance": []
    }
  },
  "nbformat": 4,
  "nbformat_minor": 0
}