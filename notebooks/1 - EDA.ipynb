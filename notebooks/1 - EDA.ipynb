{
  "cells": [
    {
      "cell_type": "markdown",
      "metadata": {
        "id": "NsLTrX91TsJr"
      },
      "source": [
        "# EDA"
      ]
    },
    {
      "cell_type": "markdown",
      "metadata": {
        "id": "0eL6BJz6TsJs"
      },
      "source": [
        "\n",
        "- The os module has a perfect method to list files in a directory.\n",
        "- Pandas json normalize could work here but is not necessary to convert the JSON data to a dataframe.\n",
        "- You may need a nested for-loop to access each sale!\n",
        "- We've put a lot of time into creating the structure of this repository, and it's a good example for future projects.  In the file functions_variables.py, there is an example function that you can import and use.  If you have any variables, functions or classes that you want to make, they can be put in the functions_variables.py file and imported into a notebook.  Note that only .py files can be imported into a notebook. If you want to import everything from a .py file, you can use the following:\n",
        "```python\n",
        "from functions_variables import *\n",
        "```\n",
        "If you just import functions_variables, then each object from the file will need to be prepended with \"functions_variables\"\\\n",
        "Using this .py file will keep your notebooks very organized and make it easier to reuse code between notebooks."
      ]
    },
    {
      "cell_type": "code",
      "execution_count": 1,
      "metadata": {
        "id": "3m8_d5OnTsJt"
      },
      "outputs": [],
      "source": [
        "# (this is not an exhaustive list of libraries)\n",
        "import pandas as pd\n",
        "import numpy as np\n",
        "import os\n",
        "import json\n",
        "from pprint import pprint\n",
        "from functions_variables import encode_tags"
      ]
    },
    {
      "cell_type": "markdown",
      "metadata": {
        "id": "KE-LUSLeTsJu"
      },
      "source": [
        "## Data Importing"
      ]
    },
    {
      "cell_type": "code",
      "execution_count": 2,
      "metadata": {
        "colab": {
          "base_uri": "https://localhost:8080/",
          "height": 211
        },
        "id": "UNw09zZzTsJu",
        "outputId": "65d4b382-12c4-497d-de5d-9251d4028bc6"
      },
      "outputs": [
        {
          "output_type": "error",
          "ename": "FileNotFoundError",
          "evalue": "[Errno 2] No such file or directory: '/content/Supervised-learning/data/AK_Juneau_0.json'",
          "traceback": [
            "\u001b[0;31m---------------------------------------------------------------------------\u001b[0m",
            "\u001b[0;31mFileNotFoundError\u001b[0m                         Traceback (most recent call last)",
            "\u001b[0;32m<ipython-input-2-63ca1e51d2fd>\u001b[0m in \u001b[0;36m<cell line: 0>\u001b[0;34m()\u001b[0m\n\u001b[1;32m      1\u001b[0m \u001b[0;31m# load one file first to see what type of data you're dealing with and what attributes it has\u001b[0m\u001b[0;34m\u001b[0m\u001b[0;34m\u001b[0m\u001b[0m\n\u001b[1;32m      2\u001b[0m \u001b[0mfile_path\u001b[0m \u001b[0;34m=\u001b[0m\u001b[0;34m\"/content/Supervised-learning/data/AK_Juneau_0.json\"\u001b[0m\u001b[0;34m\u001b[0m\u001b[0;34m\u001b[0m\u001b[0m\n\u001b[0;32m----> 3\u001b[0;31m \u001b[0;32mwith\u001b[0m \u001b[0mopen\u001b[0m \u001b[0;34m(\u001b[0m\u001b[0mfile_path\u001b[0m\u001b[0;34m)\u001b[0m \u001b[0;32mas\u001b[0m \u001b[0mf\u001b[0m\u001b[0;34m:\u001b[0m\u001b[0;34m\u001b[0m\u001b[0;34m\u001b[0m\u001b[0m\n\u001b[0m\u001b[1;32m      4\u001b[0m     \u001b[0mdata\u001b[0m \u001b[0;34m=\u001b[0m \u001b[0mjson\u001b[0m\u001b[0;34m.\u001b[0m\u001b[0mload\u001b[0m\u001b[0;34m(\u001b[0m\u001b[0mf\u001b[0m\u001b[0;34m)\u001b[0m\u001b[0;34m\u001b[0m\u001b[0;34m\u001b[0m\u001b[0m\n\u001b[1;32m      5\u001b[0m \u001b[0mprint\u001b[0m\u001b[0;34m(\u001b[0m\u001b[0mjson\u001b[0m\u001b[0;34m.\u001b[0m\u001b[0mdumps\u001b[0m\u001b[0;34m(\u001b[0m\u001b[0mdata\u001b[0m\u001b[0;34m,\u001b[0m \u001b[0mindent\u001b[0m\u001b[0;34m=\u001b[0m\u001b[0;36m4\u001b[0m\u001b[0;34m)\u001b[0m\u001b[0;34m)\u001b[0m\u001b[0;34m\u001b[0m\u001b[0;34m\u001b[0m\u001b[0m\n",
            "\u001b[0;31mFileNotFoundError\u001b[0m: [Errno 2] No such file or directory: '/content/Supervised-learning/data/AK_Juneau_0.json'"
          ]
        }
      ],
      "source": [
        "# load one file first to see what type of data you're dealing with and what attributes it has\n",
        "file_path =\"/content/Supervised-learning/data/AK_Juneau_0.json\"\n",
        "with open (file_path) as f:\n",
        "    data = json.load(f)\n",
        "print(json.dumps(data, indent=4))"
      ]
    },
    {
      "cell_type": "code",
      "source": [
        "!git clone https://github.com/CuHzQuixote/Supervised-learning\n"
      ],
      "metadata": {
        "colab": {
          "base_uri": "https://localhost:8080/"
        },
        "id": "1yAi7nOPT0f3",
        "outputId": "43252d5f-49f7-4b35-fe8e-5eeaa8a1d7f7"
      },
      "execution_count": 3,
      "outputs": [
        {
          "output_type": "stream",
          "name": "stdout",
          "text": [
            "Cloning into 'Supervised-learning'...\n",
            "remote: Enumerating objects: 247, done.\u001b[K\n",
            "remote: Counting objects: 100% (247/247), done.\u001b[K\n",
            "remote: Compressing objects: 100% (40/40), done.\u001b[K\n",
            "remote: Total 247 (delta 215), reused 225 (delta 205), pack-reused 0 (from 0)\u001b[K\n",
            "Receiving objects: 100% (247/247), 3.48 MiB | 7.79 MiB/s, done.\n",
            "Resolving deltas: 100% (215/215), done.\n"
          ]
        }
      ]
    },
    {
      "cell_type": "code",
      "execution_count": null,
      "metadata": {
        "id": "-mxgDixfTsJv"
      },
      "outputs": [],
      "source": [
        "# loop over all files and put them into a dataframe"
      ]
    },
    {
      "cell_type": "code",
      "source": [
        "# loop over all files and put them into a dataframe\n",
        "\n",
        "import os\n",
        "import json\n",
        "import pandas as pd\n",
        "\n",
        "# Path to folder containing JSON files\n",
        "folder_path = \"/content/Supervised-learning/data\"\n",
        "\n",
        "# List to store all property data\n",
        "all_properties = []\n",
        "\n",
        "# Set to track unique keys (for structure verification)\n",
        "schema_set = set()\n",
        "\n",
        "# Function to safely extract values from nested dictionaries\n",
        "def safe_get(d, keys, default=None):\n",
        "    \"\"\"Safely fetches a nested key from a dictionary.\"\"\"\n",
        "    for key in keys:\n",
        "        if isinstance(d, dict):\n",
        "            d = d.get(key, default)\n",
        "        else:\n",
        "            return default\n",
        "    return d\n",
        "\n",
        "# Function to flatten property data\n",
        "def flatten_property(property_item):\n",
        "    \"\"\"Extracts relevant fields and flattens nested dictionaries.\"\"\"\n",
        "    if property_item is None:\n",
        "        return {}\n",
        "\n",
        "    return {\n",
        "        \"property_id\": safe_get(property_item, [\"property_id\"]),\n",
        "        \"status\": safe_get(property_item, [\"status\"]),\n",
        "        \"list_date\": safe_get(property_item, [\"list_date\"]),\n",
        "        \"list_price\": safe_get(property_item, [\"list_price\"]),\n",
        "        \"sold_date\": safe_get(property_item, [\"description\", \"sold_date\"]),\n",
        "        \"sold_price\": safe_get(property_item, [\"description\", \"sold_price\"]),\n",
        "        \"year_built\": safe_get(property_item, [\"description\", \"year_built\"]),\n",
        "        \"beds\": safe_get(property_item, [\"description\", \"beds\"]),\n",
        "        \"baths\": safe_get(property_item, [\"description\", \"baths\"]),\n",
        "        \"sqft\": safe_get(property_item, [\"description\", \"sqft\"]),\n",
        "        \"lot_sqft\": safe_get(property_item, [\"description\", \"lot_sqft\"]),\n",
        "        \"garage\": safe_get(property_item, [\"description\", \"garage\"]),\n",
        "        \"type\": safe_get(property_item, [\"description\", \"type\"]),\n",
        "        \"address\": safe_get(property_item, [\"location\", \"address\", \"line\"]),\n",
        "        \"city\": safe_get(property_item, [\"location\", \"address\", \"city\"]),\n",
        "        \"state\": safe_get(property_item, [\"location\", \"address\", \"state\"]),\n",
        "        \"postal_code\": safe_get(property_item, [\"location\", \"address\", \"postal_code\"]),\n",
        "        \"latitude\": safe_get(property_item, [\"location\", \"address\", \"coordinate\", \"lat\"]),\n",
        "        \"longitude\": safe_get(property_item, [\"location\", \"address\", \"coordinate\", \"lon\"]),\n",
        "        \"primary_photo\": safe_get(property_item, [\"primary_photo\", \"href\"]),\n",
        "    }\n",
        "\n",
        "# Loop through JSON files in folder\n",
        "for file_name in os.listdir(folder_path):\n",
        "    if file_name.endswith(\".json\"):  # Ensure it's a JSON file\n",
        "        file_path = os.path.join(folder_path, file_name)\n",
        "\n",
        "        with open(file_path, \"r\", encoding=\"utf-8\") as f:\n",
        "            try:\n",
        "                data = json.load(f)\n",
        "                if \"data\" in data and \"results\" in data[\"data\"]:\n",
        "                    for property_item in data[\"data\"][\"results\"]:\n",
        "                        flattened_data = flatten_property(property_item)\n",
        "                        all_properties.append(flattened_data)\n",
        "                        schema_set.add(frozenset(flattened_data.keys()))  # Store keys for consistency check\n",
        "\n",
        "            except json.JSONDecodeError:\n",
        "                print(f\"Error reading {file_name}\")\n",
        "\n",
        "# Check for structural consistency\n",
        "if len(schema_set) == 1:\n",
        "    print(\"All files have the same structure.\")\n",
        "else:\n",
        "    print(\"Files have different structures.\")\n",
        "\n",
        "# Convert to DataFrame\n",
        "df = pd.DataFrame(all_properties)\n",
        "\n",
        "# Display first few rows\n",
        "print(df.head())"
      ],
      "metadata": {
        "colab": {
          "base_uri": "https://localhost:8080/"
        },
        "id": "YuqsVQVUUy0H",
        "outputId": "73862f5b-31e9-45f2-956b-39ed6b9f1aa1"
      },
      "execution_count": 4,
      "outputs": [
        {
          "output_type": "stream",
          "name": "stdout",
          "text": [
            "All files have the same structure.\n",
            "  property_id status                    list_date  list_price   sold_date  \\\n",
            "0  6512480131   sold  2023-12-01T15:32:49.000000Z    215000.0  2024-01-12   \n",
            "1  6066017818   sold  2023-12-09T19:47:39.000000Z    299000.0  2024-01-12   \n",
            "2  6513905808   sold  2023-11-05T21:19:21.000000Z    415000.0  2024-01-12   \n",
            "3  6592350617   sold  2023-12-13T23:09:04.000000Z    183000.0  2024-01-12   \n",
            "4  5473936524   sold  2023-11-30T20:18:18.000000Z    520000.0  2024-01-12   \n",
            "\n",
            "   sold_price  year_built  beds  baths    sqft  lot_sqft  garage  \\\n",
            "0    200000.0      1967.0   2.0    2.0  1024.0       NaN     NaN   \n",
            "1    284900.0      1982.0   3.0    3.0  1792.0    3920.0     NaN   \n",
            "2    415000.0      1955.0   2.0    2.0  1296.0   10454.0     NaN   \n",
            "3    194628.0      1997.0   3.0    2.0  1222.0   41382.0     2.0   \n",
            "4    520000.0      1988.0   4.0    2.0  2584.0   23958.0     2.0   \n",
            "\n",
            "            type             address         city    state postal_code  \\\n",
            "0         condos    710 N Gadsden St  Tallahassee  Florida       32303   \n",
            "1      townhomes     1218 Terrace St  Tallahassee  Florida       32303   \n",
            "2  single_family     24248 Lanier St  Tallahassee  Florida       32310   \n",
            "3  single_family       8737 Celia Rd  Tallahassee  Florida       32305   \n",
            "4  single_family  3236 Shamrock St E  Tallahassee  Florida       32309   \n",
            "\n",
            "    latitude  longitude                                      primary_photo  \n",
            "0  30.449312 -84.278765  https://ap.rdcpix.com/bd7fc77d7d68c370e87db055...  \n",
            "1  30.456138 -84.270022  https://ap.rdcpix.com/f1a167e523bfb0b63f48e012...  \n",
            "2  30.400488 -84.627507  https://ap.rdcpix.com/1dd719c4b88b2d9ea07ee829...  \n",
            "3  30.322251 -84.278394  https://ap.rdcpix.com/3ffb8afc34117d21ad69e70d...  \n",
            "4  30.520298 -84.202594  https://ap.rdcpix.com/5b34c7017983b9fb7050a1c4...  \n"
          ]
        }
      ]
    },
    {
      "cell_type": "code",
      "source": [],
      "metadata": {
        "id": "t9jPJDZWXV4Q"
      },
      "execution_count": null,
      "outputs": []
    },
    {
      "cell_type": "markdown",
      "metadata": {
        "id": "7DTRQPJLTsJv"
      },
      "source": [
        "## Data Cleaning and Wrangling"
      ]
    },
    {
      "cell_type": "markdown",
      "metadata": {
        "id": "K7_E5PhTTsJv"
      },
      "source": [
        "At this point, ensure that you have all sales in a dataframe.\n",
        "- Take a quick look at your data (i.e. `.info()`, `.describe()`) - what do you see?\n",
        "- Is each cell one value, or do some cells have lists?\n",
        "- What are the data types of each column?\n",
        "- Some sales may not actually include the sale price (target).  These rows should be dropped.\n",
        "- There are a lot of NA/None values.  Should these be dropped or replaced with something?\n",
        "    - You can drop rows or use various methods to fills NA's - use your best judgement for each column\n",
        "    - i.e. for some columns (like Garage), NA probably just means no Garage, so 0\n",
        "- Drop columns that aren't needed\n",
        "    - Don't keep the list price because it will be too close to the sale price. Assume we want to predict the price of houses not yet listed"
      ]
    },
    {
      "cell_type": "code",
      "execution_count": null,
      "metadata": {
        "id": "hWDDlT6qTsJv"
      },
      "outputs": [],
      "source": [
        "# load and concatenate data here\n",
        "# drop or replace values as necessary"
      ]
    },
    {
      "cell_type": "code",
      "source": [
        "df.info()\n",
        "df.describe(include='all')\n",
        "df.applymap(lambda x: isinstance(x, list)).sum()"
      ],
      "metadata": {
        "colab": {
          "base_uri": "https://localhost:8080/",
          "height": 1000
        },
        "id": "OAOhZ4CBWekP",
        "outputId": "4ffdc803-f9f5-4a4e-bde6-d618dfa15766"
      },
      "execution_count": 5,
      "outputs": [
        {
          "output_type": "stream",
          "name": "stdout",
          "text": [
            "<class 'pandas.core.frame.DataFrame'>\n",
            "RangeIndex: 8159 entries, 0 to 8158\n",
            "Data columns (total 20 columns):\n",
            " #   Column         Non-Null Count  Dtype  \n",
            "---  ------         --------------  -----  \n",
            " 0   property_id    8159 non-null   object \n",
            " 1   status         8159 non-null   object \n",
            " 2   list_date      7752 non-null   object \n",
            " 3   list_price     7721 non-null   float64\n",
            " 4   sold_date      8159 non-null   object \n",
            " 5   sold_price     6716 non-null   float64\n",
            " 6   year_built     7316 non-null   float64\n",
            " 7   beds           7504 non-null   float64\n",
            " 8   baths          7980 non-null   float64\n",
            " 9   sqft           7323 non-null   float64\n",
            " 10  lot_sqft       6991 non-null   float64\n",
            " 11  garage         4448 non-null   float64\n",
            " 12  type           8125 non-null   object \n",
            " 13  address        8144 non-null   object \n",
            " 14  city           8154 non-null   object \n",
            " 15  state          8159 non-null   object \n",
            " 16  postal_code    8159 non-null   object \n",
            " 17  latitude       7909 non-null   float64\n",
            " 18  longitude      7909 non-null   float64\n",
            " 19  primary_photo  7403 non-null   object \n",
            "dtypes: float64(10), object(10)\n",
            "memory usage: 1.2+ MB\n"
          ]
        },
        {
          "output_type": "stream",
          "name": "stderr",
          "text": [
            "<ipython-input-5-f2d7e409be78>:3: FutureWarning: DataFrame.applymap has been deprecated. Use DataFrame.map instead.\n",
            "  df.applymap(lambda x: isinstance(x, list)).sum()\n"
          ]
        },
        {
          "output_type": "execute_result",
          "data": {
            "text/plain": [
              "property_id      0\n",
              "status           0\n",
              "list_date        0\n",
              "list_price       0\n",
              "sold_date        0\n",
              "sold_price       0\n",
              "year_built       0\n",
              "beds             0\n",
              "baths            0\n",
              "sqft             0\n",
              "lot_sqft         0\n",
              "garage           0\n",
              "type             0\n",
              "address          0\n",
              "city             0\n",
              "state            0\n",
              "postal_code      0\n",
              "latitude         0\n",
              "longitude        0\n",
              "primary_photo    0\n",
              "dtype: int64"
            ],
            "text/html": [
              "<div>\n",
              "<style scoped>\n",
              "    .dataframe tbody tr th:only-of-type {\n",
              "        vertical-align: middle;\n",
              "    }\n",
              "\n",
              "    .dataframe tbody tr th {\n",
              "        vertical-align: top;\n",
              "    }\n",
              "\n",
              "    .dataframe thead th {\n",
              "        text-align: right;\n",
              "    }\n",
              "</style>\n",
              "<table border=\"1\" class=\"dataframe\">\n",
              "  <thead>\n",
              "    <tr style=\"text-align: right;\">\n",
              "      <th></th>\n",
              "      <th>0</th>\n",
              "    </tr>\n",
              "  </thead>\n",
              "  <tbody>\n",
              "    <tr>\n",
              "      <th>property_id</th>\n",
              "      <td>0</td>\n",
              "    </tr>\n",
              "    <tr>\n",
              "      <th>status</th>\n",
              "      <td>0</td>\n",
              "    </tr>\n",
              "    <tr>\n",
              "      <th>list_date</th>\n",
              "      <td>0</td>\n",
              "    </tr>\n",
              "    <tr>\n",
              "      <th>list_price</th>\n",
              "      <td>0</td>\n",
              "    </tr>\n",
              "    <tr>\n",
              "      <th>sold_date</th>\n",
              "      <td>0</td>\n",
              "    </tr>\n",
              "    <tr>\n",
              "      <th>sold_price</th>\n",
              "      <td>0</td>\n",
              "    </tr>\n",
              "    <tr>\n",
              "      <th>year_built</th>\n",
              "      <td>0</td>\n",
              "    </tr>\n",
              "    <tr>\n",
              "      <th>beds</th>\n",
              "      <td>0</td>\n",
              "    </tr>\n",
              "    <tr>\n",
              "      <th>baths</th>\n",
              "      <td>0</td>\n",
              "    </tr>\n",
              "    <tr>\n",
              "      <th>sqft</th>\n",
              "      <td>0</td>\n",
              "    </tr>\n",
              "    <tr>\n",
              "      <th>lot_sqft</th>\n",
              "      <td>0</td>\n",
              "    </tr>\n",
              "    <tr>\n",
              "      <th>garage</th>\n",
              "      <td>0</td>\n",
              "    </tr>\n",
              "    <tr>\n",
              "      <th>type</th>\n",
              "      <td>0</td>\n",
              "    </tr>\n",
              "    <tr>\n",
              "      <th>address</th>\n",
              "      <td>0</td>\n",
              "    </tr>\n",
              "    <tr>\n",
              "      <th>city</th>\n",
              "      <td>0</td>\n",
              "    </tr>\n",
              "    <tr>\n",
              "      <th>state</th>\n",
              "      <td>0</td>\n",
              "    </tr>\n",
              "    <tr>\n",
              "      <th>postal_code</th>\n",
              "      <td>0</td>\n",
              "    </tr>\n",
              "    <tr>\n",
              "      <th>latitude</th>\n",
              "      <td>0</td>\n",
              "    </tr>\n",
              "    <tr>\n",
              "      <th>longitude</th>\n",
              "      <td>0</td>\n",
              "    </tr>\n",
              "    <tr>\n",
              "      <th>primary_photo</th>\n",
              "      <td>0</td>\n",
              "    </tr>\n",
              "  </tbody>\n",
              "</table>\n",
              "</div><br><label><b>dtype:</b> int64</label>"
            ]
          },
          "metadata": {},
          "execution_count": 5
        }
      ]
    },
    {
      "cell_type": "code",
      "source": [
        "df=df.dropna(subset=[\"sold_price\"])\n",
        "df.info()"
      ],
      "metadata": {
        "colab": {
          "base_uri": "https://localhost:8080/"
        },
        "id": "PzvUkHOSW2dc",
        "outputId": "4e1d90b0-b5c9-4186-f0d4-5d7dbcbb8c62"
      },
      "execution_count": 6,
      "outputs": [
        {
          "output_type": "stream",
          "name": "stdout",
          "text": [
            "<class 'pandas.core.frame.DataFrame'>\n",
            "Index: 6716 entries, 0 to 8158\n",
            "Data columns (total 20 columns):\n",
            " #   Column         Non-Null Count  Dtype  \n",
            "---  ------         --------------  -----  \n",
            " 0   property_id    6716 non-null   object \n",
            " 1   status         6716 non-null   object \n",
            " 2   list_date      6429 non-null   object \n",
            " 3   list_price     6429 non-null   float64\n",
            " 4   sold_date      6716 non-null   object \n",
            " 5   sold_price     6716 non-null   float64\n",
            " 6   year_built     6041 non-null   float64\n",
            " 7   beds           6223 non-null   float64\n",
            " 8   baths          6566 non-null   float64\n",
            " 9   sqft           6061 non-null   float64\n",
            " 10  lot_sqft       5794 non-null   float64\n",
            " 11  garage         3485 non-null   float64\n",
            " 12  type           6696 non-null   object \n",
            " 13  address        6711 non-null   object \n",
            " 14  city           6711 non-null   object \n",
            " 15  state          6716 non-null   object \n",
            " 16  postal_code    6716 non-null   object \n",
            " 17  latitude       6537 non-null   float64\n",
            " 18  longitude      6537 non-null   float64\n",
            " 19  primary_photo  6273 non-null   object \n",
            "dtypes: float64(10), object(10)\n",
            "memory usage: 1.1+ MB\n"
          ]
        }
      ]
    },
    {
      "cell_type": "code",
      "source": [
        "df.to_csv(\"project_properties\", index=False)\n"
      ],
      "metadata": {
        "id": "bdMT59AkYKzE"
      },
      "execution_count": 27,
      "outputs": []
    },
    {
      "cell_type": "code",
      "source": [
        "df.to_csv(\"project_properties.csv\", index=False)  # Save it in Colab's working directory"
      ],
      "metadata": {
        "id": "wPt7rgQHZgOf"
      },
      "execution_count": 7,
      "outputs": []
    },
    {
      "cell_type": "code",
      "source": [
        "from google.colab import files\n",
        "\n",
        "files.download(\"project_properties.csv\")"
      ],
      "metadata": {
        "colab": {
          "base_uri": "https://localhost:8080/",
          "height": 17
        },
        "id": "WiDGC5PxbS91",
        "outputId": "8e5a7660-ab89-4b9a-8691-bade90377abb"
      },
      "execution_count": 39,
      "outputs": [
        {
          "output_type": "display_data",
          "data": {
            "text/plain": [
              "<IPython.core.display.Javascript object>"
            ],
            "application/javascript": [
              "\n",
              "    async function download(id, filename, size) {\n",
              "      if (!google.colab.kernel.accessAllowed) {\n",
              "        return;\n",
              "      }\n",
              "      const div = document.createElement('div');\n",
              "      const label = document.createElement('label');\n",
              "      label.textContent = `Downloading \"${filename}\": `;\n",
              "      div.appendChild(label);\n",
              "      const progress = document.createElement('progress');\n",
              "      progress.max = size;\n",
              "      div.appendChild(progress);\n",
              "      document.body.appendChild(div);\n",
              "\n",
              "      const buffers = [];\n",
              "      let downloaded = 0;\n",
              "\n",
              "      const channel = await google.colab.kernel.comms.open(id);\n",
              "      // Send a message to notify the kernel that we're ready.\n",
              "      channel.send({})\n",
              "\n",
              "      for await (const message of channel.messages) {\n",
              "        // Send a message to notify the kernel that we're ready.\n",
              "        channel.send({})\n",
              "        if (message.buffers) {\n",
              "          for (const buffer of message.buffers) {\n",
              "            buffers.push(buffer);\n",
              "            downloaded += buffer.byteLength;\n",
              "            progress.value = downloaded;\n",
              "          }\n",
              "        }\n",
              "      }\n",
              "      const blob = new Blob(buffers, {type: 'application/binary'});\n",
              "      const a = document.createElement('a');\n",
              "      a.href = window.URL.createObjectURL(blob);\n",
              "      a.download = filename;\n",
              "      div.appendChild(a);\n",
              "      a.click();\n",
              "      div.remove();\n",
              "    }\n",
              "  "
            ]
          },
          "metadata": {}
        },
        {
          "output_type": "display_data",
          "data": {
            "text/plain": [
              "<IPython.core.display.Javascript object>"
            ],
            "application/javascript": [
              "download(\"download_8a9154a7-c8e0-43fa-8804-7494ebf0bf32\", \"project_properties.csv\", 1709199)"
            ]
          },
          "metadata": {}
        }
      ]
    },
    {
      "cell_type": "markdown",
      "metadata": {
        "id": "kOrfwHjUTsJv"
      },
      "source": [
        "### Dealing with Tags"
      ]
    },
    {
      "cell_type": "markdown",
      "metadata": {
        "id": "_gGm7ouoTsJw"
      },
      "source": [
        "Consider the fact that with tags, there are a lot of categorical variables.\n",
        "- How many columns would we have if we OHE tags, city and state?\n",
        "- Perhaps we can get rid of tags that have a low frequency."
      ]
    },
    {
      "cell_type": "code",
      "execution_count": null,
      "metadata": {
        "id": "_PymWT2nTsJw"
      },
      "outputs": [],
      "source": [
        "# OHE categorical variables/ tags here\n",
        "# tags will have to be done manually"
      ]
    },
    {
      "cell_type": "markdown",
      "metadata": {
        "id": "EermY5ncTsJw"
      },
      "source": [
        "### Dealing with Cities"
      ]
    },
    {
      "cell_type": "markdown",
      "metadata": {
        "id": "JApBmeT4TsJw"
      },
      "source": [
        "- Sales will vary drastically between cities and states.  Is there a way to keep information about which city it is without OHE?\n",
        "- Could we label encode or ordinal encode?  Yes, but this may have undesirable effects, giving nominal data ordinal values.\n",
        "- What we can do is use our training data to encode the mean sale price by city as a feature (a.k.a. Target Encoding)\n",
        "    - We can do this as long as we ONLY use the training data - we're using the available data to give us a 'starting guess' of the price for each city, without needing to encode city explicitly\n",
        "- If you replace cities or states with numerical values (like the mean price), make sure that the data is split so that we don't leak data into the training selection. This is a great time to train test split. Compute on the training data, and join these values to the test data\n",
        "- Note that you *may* have cities in the test set that are not in the training set. You don't want these to be NA, so maybe you can fill them with the overall mean"
      ]
    },
    {
      "cell_type": "code",
      "execution_count": null,
      "metadata": {
        "id": "5p0zgtcFTsJw"
      },
      "outputs": [],
      "source": [
        "# perform train test split here\n",
        "# do something with state and city"
      ]
    },
    {
      "cell_type": "code",
      "source": [
        "print(df.info())\n",
        "print(df.head())"
      ],
      "metadata": {
        "colab": {
          "base_uri": "https://localhost:8080/"
        },
        "id": "PQObp-RPcuV-",
        "outputId": "43790cc2-0948-4ead-91c1-38723b4e76c4"
      },
      "execution_count": 8,
      "outputs": [
        {
          "output_type": "stream",
          "name": "stdout",
          "text": [
            "<class 'pandas.core.frame.DataFrame'>\n",
            "Index: 6716 entries, 0 to 8158\n",
            "Data columns (total 20 columns):\n",
            " #   Column         Non-Null Count  Dtype  \n",
            "---  ------         --------------  -----  \n",
            " 0   property_id    6716 non-null   object \n",
            " 1   status         6716 non-null   object \n",
            " 2   list_date      6429 non-null   object \n",
            " 3   list_price     6429 non-null   float64\n",
            " 4   sold_date      6716 non-null   object \n",
            " 5   sold_price     6716 non-null   float64\n",
            " 6   year_built     6041 non-null   float64\n",
            " 7   beds           6223 non-null   float64\n",
            " 8   baths          6566 non-null   float64\n",
            " 9   sqft           6061 non-null   float64\n",
            " 10  lot_sqft       5794 non-null   float64\n",
            " 11  garage         3485 non-null   float64\n",
            " 12  type           6696 non-null   object \n",
            " 13  address        6711 non-null   object \n",
            " 14  city           6711 non-null   object \n",
            " 15  state          6716 non-null   object \n",
            " 16  postal_code    6716 non-null   object \n",
            " 17  latitude       6537 non-null   float64\n",
            " 18  longitude      6537 non-null   float64\n",
            " 19  primary_photo  6273 non-null   object \n",
            "dtypes: float64(10), object(10)\n",
            "memory usage: 1.1+ MB\n",
            "None\n",
            "  property_id status                    list_date  list_price   sold_date  \\\n",
            "0  6512480131   sold  2023-12-01T15:32:49.000000Z    215000.0  2024-01-12   \n",
            "1  6066017818   sold  2023-12-09T19:47:39.000000Z    299000.0  2024-01-12   \n",
            "2  6513905808   sold  2023-11-05T21:19:21.000000Z    415000.0  2024-01-12   \n",
            "3  6592350617   sold  2023-12-13T23:09:04.000000Z    183000.0  2024-01-12   \n",
            "4  5473936524   sold  2023-11-30T20:18:18.000000Z    520000.0  2024-01-12   \n",
            "\n",
            "   sold_price  year_built  beds  baths    sqft  lot_sqft  garage  \\\n",
            "0    200000.0      1967.0   2.0    2.0  1024.0       NaN     NaN   \n",
            "1    284900.0      1982.0   3.0    3.0  1792.0    3920.0     NaN   \n",
            "2    415000.0      1955.0   2.0    2.0  1296.0   10454.0     NaN   \n",
            "3    194628.0      1997.0   3.0    2.0  1222.0   41382.0     2.0   \n",
            "4    520000.0      1988.0   4.0    2.0  2584.0   23958.0     2.0   \n",
            "\n",
            "            type             address         city    state postal_code  \\\n",
            "0         condos    710 N Gadsden St  Tallahassee  Florida       32303   \n",
            "1      townhomes     1218 Terrace St  Tallahassee  Florida       32303   \n",
            "2  single_family     24248 Lanier St  Tallahassee  Florida       32310   \n",
            "3  single_family       8737 Celia Rd  Tallahassee  Florida       32305   \n",
            "4  single_family  3236 Shamrock St E  Tallahassee  Florida       32309   \n",
            "\n",
            "    latitude  longitude                                      primary_photo  \n",
            "0  30.449312 -84.278765  https://ap.rdcpix.com/bd7fc77d7d68c370e87db055...  \n",
            "1  30.456138 -84.270022  https://ap.rdcpix.com/f1a167e523bfb0b63f48e012...  \n",
            "2  30.400488 -84.627507  https://ap.rdcpix.com/1dd719c4b88b2d9ea07ee829...  \n",
            "3  30.322251 -84.278394  https://ap.rdcpix.com/3ffb8afc34117d21ad69e70d...  \n",
            "4  30.520298 -84.202594  https://ap.rdcpix.com/5b34c7017983b9fb7050a1c4...  \n"
          ]
        }
      ]
    },
    {
      "cell_type": "code",
      "source": [
        "# Identify object (categorical) columns\n",
        "categorical_cols = df.select_dtypes(include=['object']).columns\n",
        "print(\"Categorical Columns:\", categorical_cols)\n"
      ],
      "metadata": {
        "colab": {
          "base_uri": "https://localhost:8080/"
        },
        "id": "Yn_PLa_7dHIF",
        "outputId": "c403d1ea-9703-4f51-c2e4-e6ffdc6d9e4d"
      },
      "execution_count": 9,
      "outputs": [
        {
          "output_type": "stream",
          "name": "stdout",
          "text": [
            "Categorical Columns: Index(['property_id', 'status', 'list_date', 'sold_date', 'type', 'address',\n",
            "       'city', 'state', 'postal_code', 'primary_photo'],\n",
            "      dtype='object')\n"
          ]
        }
      ]
    },
    {
      "cell_type": "code",
      "source": [
        "file_path = \"/content/project_properties.csv\"\n",
        "df = pd.read_csv(file_path)\n",
        "\n",
        "# Remove extreme outliers in sold_price (top 1% and bottom 1%)\n",
        "lower_threshold = df[\"sold_price\"].quantile(0.01)  # Bottom 1%\n",
        "upper_threshold = df[\"sold_price\"].quantile(0.99)  # Top 1%\n",
        "\n",
        "df = df[(df[\"sold_price\"] >= lower_threshold) & (df[\"sold_price\"] <= upper_threshold)]\n",
        "\n",
        "\n",
        "# Drop non-useful columns\n",
        "drop_columns = [\"property_id\", \"list_date\", \"sold_date\", \"primary_photo\", \"address\"]\n",
        "target_column = \"sold_price\"\n",
        "\n",
        "X = df.drop(columns=[target_column] + drop_columns, errors=\"ignore\")\n",
        "y = df[target_column]\n"
      ],
      "metadata": {
        "id": "I-7MURhCdJrQ"
      },
      "execution_count": 24,
      "outputs": []
    },
    {
      "cell_type": "code",
      "source": [
        "from sklearn.model_selection import train_test_split\n",
        "\n",
        "X_train, X_test, y_train, y_test = train_test_split(X, y, test_size=0.2, random_state=42)\n",
        "\n",
        "print(f\"Training set: {X_train.shape}\")\n",
        "print(f\"Test set: {X_test.shape}\")\n"
      ],
      "metadata": {
        "colab": {
          "base_uri": "https://localhost:8080/"
        },
        "id": "XZaiWZAwfKL2",
        "outputId": "b707c668-97cb-450f-e1f6-4add8f9c1dd5"
      },
      "execution_count": 25,
      "outputs": [
        {
          "output_type": "stream",
          "name": "stdout",
          "text": [
            "Training set: (5268, 14)\n",
            "Test set: (1317, 14)\n"
          ]
        }
      ]
    },
    {
      "cell_type": "code",
      "source": [
        "if \"city\" in X_train.columns and \"state\" in X_train.columns:\n",
        "    city_mean_price = X_train.join(y_train).groupby(\"city\")[\"sold_price\"].mean()\n",
        "    state_mean_price = X_train.join(y_train).groupby(\"state\")[\"sold_price\"].mean()\n",
        "\n",
        "    X_train[\"city\"] = X_train[\"city\"].map(city_mean_price)\n",
        "    X_test[\"city\"] = X_test[\"city\"].map(city_mean_price)\n",
        "\n",
        "    X_train[\"state\"] = X_train[\"state\"].map(state_mean_price)\n",
        "    X_test[\"state\"] = X_test[\"state\"].map(state_mean_price)\n",
        "\n",
        "    # Fill missing values\n",
        "    X_test[\"city\"] = X_test[\"city\"].fillna(y_train.mean())\n",
        "    X_test[\"state\"] = X_test[\"state\"].fillna(y_train.mean())\n",
        "\n",
        "    print(\"City & State successfully encoded using mean sale price.\")\n",
        "else:\n",
        "    print(\"City and State columns are missing. Skipping target encoding.\")\n"
      ],
      "metadata": {
        "colab": {
          "base_uri": "https://localhost:8080/"
        },
        "id": "UarR6CapfPXk",
        "outputId": "49fbb128-fc70-416b-f874-3a291488d009"
      },
      "execution_count": 26,
      "outputs": [
        {
          "output_type": "stream",
          "name": "stdout",
          "text": [
            "City & State successfully encoded using mean sale price.\n"
          ]
        }
      ]
    },
    {
      "cell_type": "code",
      "source": [
        "if \"city\" in X_train.columns and \"state\" in X_train.columns:\n",
        "    city_mean_price = X_train.join(y_train).groupby(\"city\")[\"sold_price\"].mean()\n",
        "    state_mean_price = X_train.join(y_train).groupby(\"state\")[\"sold_price\"].mean()\n",
        "\n",
        "    X_train[\"city\"] = X_train[\"city\"].map(city_mean_price)\n",
        "    X_test[\"city\"] = X_test[\"city\"].map(city_mean_price)\n",
        "\n",
        "    X_train[\"state\"] = X_train[\"state\"].map(state_mean_price)\n",
        "    X_test[\"state\"] = X_test[\"state\"].map(state_mean_price)\n",
        "\n",
        "    # Fill missing values\n",
        "    X_test[\"city\"] = X_test[\"city\"].fillna(y_train.mean())\n",
        "    X_test[\"state\"] = X_test[\"state\"].fillna(y_train.mean())\n",
        "\n",
        "    print(\"City & State successfully encoded using mean sale price.\")\n",
        "else:\n",
        "    print(\"City and State columns are missing. Skipping target encoding.\")\n"
      ],
      "metadata": {
        "colab": {
          "base_uri": "https://localhost:8080/"
        },
        "id": "ev8yD74CfojY",
        "outputId": "a9e949d7-c5a5-42ce-9eaf-9b873e9e5db7"
      },
      "execution_count": 27,
      "outputs": [
        {
          "output_type": "stream",
          "name": "stdout",
          "text": [
            "City & State successfully encoded using mean sale price.\n"
          ]
        }
      ]
    },
    {
      "cell_type": "code",
      "source": [],
      "metadata": {
        "id": "Cre4JA1WgvQO"
      },
      "execution_count": 48,
      "outputs": []
    },
    {
      "cell_type": "markdown",
      "metadata": {
        "id": "yanWjdRvTsJx"
      },
      "source": [
        "## Extra Data - STRETCH\n",
        "\n",
        "> This doesn't need to be part of your Minimum Viable Product (MVP). We recommend you write a functional, basic pipeline first, then circle back and join new data if you have time\n",
        "\n",
        "> If you do this, try to write your downstream steps in a way it will still work on a dataframe with different features!\n",
        "\n",
        "- You're not limited to just using the data provided to you. Think/ do some research about other features that might be useful to predict housing prices.\n",
        "- Can you import and join this data? Make sure you do any necessary preprocessing and make sure it is joined correctly.\n",
        "- Example suggestion: could mortgage interest rates in the year of the listing affect the price?"
      ]
    },
    {
      "cell_type": "code",
      "execution_count": null,
      "metadata": {
        "id": "v9SprlelTsJx"
      },
      "outputs": [],
      "source": [
        "# import, join and preprocess new data here"
      ]
    },
    {
      "cell_type": "markdown",
      "metadata": {
        "id": "agP8QVnhTsJx"
      },
      "source": [
        "## EDA/ Visualization\n",
        "\n",
        "Remember all of the EDA that you've been learning about?  Now is a perfect time for it!\n",
        "- Look at distributions of numerical variables to see the shape of the data and detect outliers.    \n",
        "    - Consider transforming very skewed variables\n",
        "- Scatterplots of a numerical variable and the target go a long way to show correlations.\n",
        "- A heatmap will help detect highly correlated features, and we don't want these.\n",
        "    - You may have too many features to do this, in which case you can simply compute the most correlated feature-pairs and list them\n",
        "- Is there any overlap in any of the features? (redundant information, like number of this or that room...)"
      ]
    },
    {
      "cell_type": "code",
      "execution_count": 28,
      "metadata": {
        "id": "9RJfAKg_TsJx"
      },
      "outputs": [],
      "source": [
        "# perform EDA here\n",
        "import seaborn as sns\n",
        "import matplotlib.pyplot as plt"
      ]
    },
    {
      "cell_type": "code",
      "source": [
        "plt.figure(figsize=(8, 6))\n",
        "sns.scatterplot(x=X_train[\"list_price\"], y=y_train, alpha=0.5)\n",
        "\n",
        "plt.xlabel(\"List Price\")\n",
        "plt.ylabel(\"Sold Price\")\n",
        "plt.title(\"Scatter Plot of List Price vs Sold Price\")\n",
        "plt.show()\n"
      ],
      "metadata": {
        "colab": {
          "base_uri": "https://localhost:8080/",
          "height": 564
        },
        "id": "ly4juIivsu5h",
        "outputId": "0f2599a3-e2fa-4759-e997-7e8cffa9e428"
      },
      "execution_count": 29,
      "outputs": [
        {
          "output_type": "display_data",
          "data": {
            "text/plain": [
              "<Figure size 800x600 with 1 Axes>"
            ],
            "image/png": "[encoded data removed]"
          },
          "metadata": {}
        }
      ]
    },
    {
      "cell_type": "code",
      "source": [
        "plt.figure(figsize=(8, 6))\n",
        "sns.scatterplot(x=X_train[\"list_price\"], y=y_train, hue=X_train[\"type\"], alpha=0.5)\n",
        "\n",
        "plt.xlabel(\"List Price\")\n",
        "plt.ylabel(\"Sold Price\")\n",
        "plt.title(\"Scatter Plot with Property Type\")\n",
        "plt.legend(title=\"Property Type\")\n",
        "plt.show()\n"
      ],
      "metadata": {
        "colab": {
          "base_uri": "https://localhost:8080/",
          "height": 564
        },
        "id": "IEZWIIvSs1aQ",
        "outputId": "d4437833-f6b9-4e78-ebab-7260595b01a1"
      },
      "execution_count": 30,
      "outputs": [
        {
          "output_type": "display_data",
          "data": {
            "text/plain": [
              "<Figure size 800x600 with 1 Axes>"
            ],
            "image/png": "[encoded data removed]"
          },
          "metadata": {}
        }
      ]
    },
    {
      "cell_type": "code",
      "source": [],
      "metadata": {
        "id": "eZAACCoHBxLO"
      },
      "execution_count": null,
      "outputs": []
    },
    {
      "cell_type": "markdown",
      "metadata": {
        "id": "a70EVKt4TsJx"
      },
      "source": [
        "## Scaling and Finishing Up"
      ]
    },
    {
      "cell_type": "markdown",
      "metadata": {
        "id": "kNOZZGAsTsJx"
      },
      "source": [
        "Now is a great time to scale the data and save it once it's preprocessed.\n",
        "- You can save it in your data folder, but you may want to make a new `processed/` subfolder to keep it organized"
      ]
    },
    {
      "cell_type": "code",
      "execution_count": 31,
      "metadata": {
        "id": "sRK6ccJdTsJx"
      },
      "outputs": [],
      "source": [
        "X_train.to_csv(\"X_train.csv\", index=False)\n",
        "X_test.to_csv(\"X_test.csv\", index=False)\n",
        "y_train.to_csv(\"y_train.csv\", index=False)\n",
        "y_test.to_csv(\"y_test.csv\", index=False)"
      ]
    },
    {
      "cell_type": "code",
      "source": [
        "from google.colab import files\n",
        "\n",
        "files.download(\"X_train.csv\")\n",
        "files.download(\"X_test.csv\")\n",
        "files.download(\"y_train.csv\")\n",
        "files.download(\"y_test.csv\")\n"
      ],
      "metadata": {
        "colab": {
          "base_uri": "https://localhost:8080/",
          "height": 17
        },
        "id": "CmRs8NKVuD7y",
        "outputId": "7c0c10f6-6376-48b3-e673-a01473ab1f61"
      },
      "execution_count": 64,
      "outputs": [
        {
          "output_type": "display_data",
          "data": {
            "text/plain": [
              "<IPython.core.display.Javascript object>"
            ],
            "application/javascript": [
              "\n",
              "    async function download(id, filename, size) {\n",
              "      if (!google.colab.kernel.accessAllowed) {\n",
              "        return;\n",
              "      }\n",
              "      const div = document.createElement('div');\n",
              "      const label = document.createElement('label');\n",
              "      label.textContent = `Downloading \"${filename}\": `;\n",
              "      div.appendChild(label);\n",
              "      const progress = document.createElement('progress');\n",
              "      progress.max = size;\n",
              "      div.appendChild(progress);\n",
              "      document.body.appendChild(div);\n",
              "\n",
              "      const buffers = [];\n",
              "      let downloaded = 0;\n",
              "\n",
              "      const channel = await google.colab.kernel.comms.open(id);\n",
              "      // Send a message to notify the kernel that we're ready.\n",
              "      channel.send({})\n",
              "\n",
              "      for await (const message of channel.messages) {\n",
              "        // Send a message to notify the kernel that we're ready.\n",
              "        channel.send({})\n",
              "        if (message.buffers) {\n",
              "          for (const buffer of message.buffers) {\n",
              "            buffers.push(buffer);\n",
              "            downloaded += buffer.byteLength;\n",
              "            progress.value = downloaded;\n",
              "          }\n",
              "        }\n",
              "      }\n",
              "      const blob = new Blob(buffers, {type: 'application/binary'});\n",
              "      const a = document.createElement('a');\n",
              "      a.href = window.URL.createObjectURL(blob);\n",
              "      a.download = filename;\n",
              "      div.appendChild(a);\n",
              "      a.click();\n",
              "      div.remove();\n",
              "    }\n",
              "  "
            ]
          },
          "metadata": {}
        },
        {
          "output_type": "display_data",
          "data": {
            "text/plain": [
              "<IPython.core.display.Javascript object>"
            ],
            "application/javascript": [
              "download(\"download_cecbb322-8030-40de-bacc-1b7cef2ce88b\", \"X_train.csv\", 627674)"
            ]
          },
          "metadata": {}
        },
        {
          "output_type": "display_data",
          "data": {
            "text/plain": [
              "<IPython.core.display.Javascript object>"
            ],
            "application/javascript": [
              "\n",
              "    async function download(id, filename, size) {\n",
              "      if (!google.colab.kernel.accessAllowed) {\n",
              "        return;\n",
              "      }\n",
              "      const div = document.createElement('div');\n",
              "      const label = document.createElement('label');\n",
              "      label.textContent = `Downloading \"${filename}\": `;\n",
              "      div.appendChild(label);\n",
              "      const progress = document.createElement('progress');\n",
              "      progress.max = size;\n",
              "      div.appendChild(progress);\n",
              "      document.body.appendChild(div);\n",
              "\n",
              "      const buffers = [];\n",
              "      let downloaded = 0;\n",
              "\n",
              "      const channel = await google.colab.kernel.comms.open(id);\n",
              "      // Send a message to notify the kernel that we're ready.\n",
              "      channel.send({})\n",
              "\n",
              "      for await (const message of channel.messages) {\n",
              "        // Send a message to notify the kernel that we're ready.\n",
              "        channel.send({})\n",
              "        if (message.buffers) {\n",
              "          for (const buffer of message.buffers) {\n",
              "            buffers.push(buffer);\n",
              "            downloaded += buffer.byteLength;\n",
              "            progress.value = downloaded;\n",
              "          }\n",
              "        }\n",
              "      }\n",
              "      const blob = new Blob(buffers, {type: 'application/binary'});\n",
              "      const a = document.createElement('a');\n",
              "      a.href = window.URL.createObjectURL(blob);\n",
              "      a.download = filename;\n",
              "      div.appendChild(a);\n",
              "      a.click();\n",
              "      div.remove();\n",
              "    }\n",
              "  "
            ]
          },
          "metadata": {}
        },
        {
          "output_type": "display_data",
          "data": {
            "text/plain": [
              "<IPython.core.display.Javascript object>"
            ],
            "application/javascript": [
              "download(\"download_dd3d74ef-6789-4421-abaf-9764b4da2e21\", \"X_test.csv\", 156059)"
            ]
          },
          "metadata": {}
        },
        {
          "output_type": "display_data",
          "data": {
            "text/plain": [
              "<IPython.core.display.Javascript object>"
            ],
            "application/javascript": [
              "\n",
              "    async function download(id, filename, size) {\n",
              "      if (!google.colab.kernel.accessAllowed) {\n",
              "        return;\n",
              "      }\n",
              "      const div = document.createElement('div');\n",
              "      const label = document.createElement('label');\n",
              "      label.textContent = `Downloading \"${filename}\": `;\n",
              "      div.appendChild(label);\n",
              "      const progress = document.createElement('progress');\n",
              "      progress.max = size;\n",
              "      div.appendChild(progress);\n",
              "      document.body.appendChild(div);\n",
              "\n",
              "      const buffers = [];\n",
              "      let downloaded = 0;\n",
              "\n",
              "      const channel = await google.colab.kernel.comms.open(id);\n",
              "      // Send a message to notify the kernel that we're ready.\n",
              "      channel.send({})\n",
              "\n",
              "      for await (const message of channel.messages) {\n",
              "        // Send a message to notify the kernel that we're ready.\n",
              "        channel.send({})\n",
              "        if (message.buffers) {\n",
              "          for (const buffer of message.buffers) {\n",
              "            buffers.push(buffer);\n",
              "            downloaded += buffer.byteLength;\n",
              "            progress.value = downloaded;\n",
              "          }\n",
              "        }\n",
              "      }\n",
              "      const blob = new Blob(buffers, {type: 'application/binary'});\n",
              "      const a = document.createElement('a');\n",
              "      a.href = window.URL.createObjectURL(blob);\n",
              "      a.download = filename;\n",
              "      div.appendChild(a);\n",
              "      a.click();\n",
              "      div.remove();\n",
              "    }\n",
              "  "
            ]
          },
          "metadata": {}
        },
        {
          "output_type": "display_data",
          "data": {
            "text/plain": [
              "<IPython.core.display.Javascript object>"
            ],
            "application/javascript": [
              "download(\"download_6e70d54f-4e58-4ca1-a866-532f10e371b4\", \"y_train.csv\", 48050)"
            ]
          },
          "metadata": {}
        },
        {
          "output_type": "display_data",
          "data": {
            "text/plain": [
              "<IPython.core.display.Javascript object>"
            ],
            "application/javascript": [
              "\n",
              "    async function download(id, filename, size) {\n",
              "      if (!google.colab.kernel.accessAllowed) {\n",
              "        return;\n",
              "      }\n",
              "      const div = document.createElement('div');\n",
              "      const label = document.createElement('label');\n",
              "      label.textContent = `Downloading \"${filename}\": `;\n",
              "      div.appendChild(label);\n",
              "      const progress = document.createElement('progress');\n",
              "      progress.max = size;\n",
              "      div.appendChild(progress);\n",
              "      document.body.appendChild(div);\n",
              "\n",
              "      const buffers = [];\n",
              "      let downloaded = 0;\n",
              "\n",
              "      const channel = await google.colab.kernel.comms.open(id);\n",
              "      // Send a message to notify the kernel that we're ready.\n",
              "      channel.send({})\n",
              "\n",
              "      for await (const message of channel.messages) {\n",
              "        // Send a message to notify the kernel that we're ready.\n",
              "        channel.send({})\n",
              "        if (message.buffers) {\n",
              "          for (const buffer of message.buffers) {\n",
              "            buffers.push(buffer);\n",
              "            downloaded += buffer.byteLength;\n",
              "            progress.value = downloaded;\n",
              "          }\n",
              "        }\n",
              "      }\n",
              "      const blob = new Blob(buffers, {type: 'application/binary'});\n",
              "      const a = document.createElement('a');\n",
              "      a.href = window.URL.createObjectURL(blob);\n",
              "      a.download = filename;\n",
              "      div.appendChild(a);\n",
              "      a.click();\n",
              "      div.remove();\n",
              "    }\n",
              "  "
            ]
          },
          "metadata": {}
        },
        {
          "output_type": "display_data",
          "data": {
            "text/plain": [
              "<IPython.core.display.Javascript object>"
            ],
            "application/javascript": [
              "download(\"download_be02e884-bf8b-4d17-86c6-f0cdc103ec99\", \"y_test.csv\", 12009)"
            ]
          },
          "metadata": {}
        }
      ]
    }
  ],
  "metadata": {
    "kernelspec": {
      "display_name": "Python 3",
      "language": "python",
      "name": "python3"
    },
    "language_info": {
      "codemirror_mode": {
        "name": "ipython",
        "version": 3
      },
      "file_extension": ".py",
      "mimetype": "text/x-python",
      "name": "python",
      "nbconvert_exporter": "python",
      "pygments_lexer": "ipython3",
      "version": "3.9.0"
    },
    "colab": {
      "provenance": []
    }
  },
  "nbformat": 4,
  "nbformat_minor": 0
}